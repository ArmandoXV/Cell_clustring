{
 "cells": [
  {
   "cell_type": "code",
   "execution_count": 221,
   "metadata": {},
   "outputs": [],
   "source": [
    "import numpy as np\n",
    "import pandas as pd\n",
    "import matplotlib.pyplot as plt\n",
    "import seaborn as sns\n",
    "import datetime as dt\n",
    "from os import listdir\n",
    "\n",
    "# import required libraries for clustering\n",
    "import sklearn\n",
    "from sklearn.preprocessing import StandardScaler\n",
    "from sklearn.cluster import KMeans\n",
    "from sklearn.metrics import silhouette_score\n",
    "from scipy.cluster.hierarchy import linkage\n",
    "from scipy.cluster.hierarchy import dendrogram\n",
    "\n",
    "from scipy.cluster.hierarchy import cut_tree"
   ]
  },
  {
   "cell_type": "code",
   "execution_count": 222,
   "metadata": {},
   "outputs": [],
   "source": [
    "filepaths = [f for f in listdir(\"./data\") if f.endswith('.csv')]\n",
    "files = [pd.read_csv('./data/' + f, sep=\",\", encoding=\"ISO-8859-1\", header=0) for f in filepaths]"
   ]
  },
  {
   "cell_type": "code",
   "execution_count": 223,
   "metadata": {},
   "outputs": [],
   "source": [
    "cellphones = pd.concat(files)"
   ]
  },
  {
   "cell_type": "code",
   "execution_count": 224,
   "metadata": {},
   "outputs": [
    {
     "data": {
      "text/html": [
       "<div>\n",
       "<style scoped>\n",
       "    .dataframe tbody tr th:only-of-type {\n",
       "        vertical-align: middle;\n",
       "    }\n",
       "\n",
       "    .dataframe tbody tr th {\n",
       "        vertical-align: top;\n",
       "    }\n",
       "\n",
       "    .dataframe thead th {\n",
       "        text-align: right;\n",
       "    }\n",
       "</style>\n",
       "<table border=\"1\" class=\"dataframe\">\n",
       "  <thead>\n",
       "    <tr style=\"text-align: right;\">\n",
       "      <th></th>\n",
       "      <th>datetime</th>\n",
       "      <th>CellID</th>\n",
       "      <th>countrycode</th>\n",
       "      <th>smsin</th>\n",
       "      <th>smsout</th>\n",
       "      <th>callin</th>\n",
       "      <th>callout</th>\n",
       "      <th>internet</th>\n",
       "    </tr>\n",
       "  </thead>\n",
       "  <tbody>\n",
       "    <tr>\n",
       "      <th>0</th>\n",
       "      <td>2013-11-02 00:00:00</td>\n",
       "      <td>1</td>\n",
       "      <td>0</td>\n",
       "      <td>0.2445</td>\n",
       "      <td>NaN</td>\n",
       "      <td>NaN</td>\n",
       "      <td>NaN</td>\n",
       "      <td>NaN</td>\n",
       "    </tr>\n",
       "    <tr>\n",
       "      <th>1</th>\n",
       "      <td>2013-11-02 00:00:00</td>\n",
       "      <td>1</td>\n",
       "      <td>39</td>\n",
       "      <td>1.4952</td>\n",
       "      <td>1.1213</td>\n",
       "      <td>0.2708</td>\n",
       "      <td>0.3004</td>\n",
       "      <td>46.5094</td>\n",
       "    </tr>\n",
       "    <tr>\n",
       "      <th>2</th>\n",
       "      <td>2013-11-02 00:00:00</td>\n",
       "      <td>1</td>\n",
       "      <td>53</td>\n",
       "      <td>0.0018</td>\n",
       "      <td>0.0036</td>\n",
       "      <td>NaN</td>\n",
       "      <td>NaN</td>\n",
       "      <td>NaN</td>\n",
       "    </tr>\n",
       "    <tr>\n",
       "      <th>3</th>\n",
       "      <td>2013-11-02 00:00:00</td>\n",
       "      <td>2</td>\n",
       "      <td>0</td>\n",
       "      <td>0.2458</td>\n",
       "      <td>NaN</td>\n",
       "      <td>NaN</td>\n",
       "      <td>NaN</td>\n",
       "      <td>NaN</td>\n",
       "    </tr>\n",
       "    <tr>\n",
       "      <th>4</th>\n",
       "      <td>2013-11-02 00:00:00</td>\n",
       "      <td>2</td>\n",
       "      <td>39</td>\n",
       "      <td>1.5028</td>\n",
       "      <td>1.1243</td>\n",
       "      <td>0.2751</td>\n",
       "      <td>0.3023</td>\n",
       "      <td>46.6933</td>\n",
       "    </tr>\n",
       "  </tbody>\n",
       "</table>\n",
       "</div>"
      ],
      "text/plain": [
       "              datetime  CellID  countrycode   smsin  smsout  callin  callout  \\\n",
       "0  2013-11-02 00:00:00       1            0  0.2445     NaN     NaN      NaN   \n",
       "1  2013-11-02 00:00:00       1           39  1.4952  1.1213  0.2708   0.3004   \n",
       "2  2013-11-02 00:00:00       1           53  0.0018  0.0036     NaN      NaN   \n",
       "3  2013-11-02 00:00:00       2            0  0.2458     NaN     NaN      NaN   \n",
       "4  2013-11-02 00:00:00       2           39  1.5028  1.1243  0.2751   0.3023   \n",
       "\n",
       "   internet  \n",
       "0       NaN  \n",
       "1   46.5094  \n",
       "2       NaN  \n",
       "3       NaN  \n",
       "4   46.6933  "
      ]
     },
     "execution_count": 224,
     "metadata": {},
     "output_type": "execute_result"
    }
   ],
   "source": [
    "cellphones.head()"
   ]
  },
  {
   "cell_type": "code",
   "execution_count": 225,
   "metadata": {},
   "outputs": [
    {
     "data": {
      "text/plain": [
       "(13197237, 8)"
      ]
     },
     "execution_count": 225,
     "metadata": {},
     "output_type": "execute_result"
    }
   ],
   "source": [
    "cellphones.shape"
   ]
  },
  {
   "cell_type": "code",
   "execution_count": 226,
   "metadata": {},
   "outputs": [
    {
     "name": "stdout",
     "output_type": "stream",
     "text": [
      "<class 'pandas.core.frame.DataFrame'>\n",
      "Int64Index: 13197237 entries, 0 to 2407383\n",
      "Data columns (total 8 columns):\n",
      " #   Column       Non-Null Count     Dtype  \n",
      "---  ------       --------------     -----  \n",
      " 0   datetime     13197237 non-null  object \n",
      " 1   CellID       13197237 non-null  int64  \n",
      " 2   countrycode  13197237 non-null  int64  \n",
      " 3   smsin        5217770 non-null   float64\n",
      " 4   smsout       3077028 non-null   float64\n",
      " 5   callin       3625162 non-null   float64\n",
      " 6   callout      5629788 non-null   float64\n",
      " 7   internet     5915110 non-null   float64\n",
      "dtypes: float64(5), int64(2), object(1)\n",
      "memory usage: 906.2+ MB\n"
     ]
    }
   ],
   "source": [
    "cellphones.info(show_counts=True)"
   ]
  },
  {
   "cell_type": "code",
   "execution_count": 227,
   "metadata": {},
   "outputs": [
    {
     "data": {
      "text/plain": [
       "datetime        0.00\n",
       "CellID          0.00\n",
       "countrycode     0.00\n",
       "smsin          60.46\n",
       "smsout         76.68\n",
       "callin         72.53\n",
       "callout        57.34\n",
       "internet       55.18\n",
       "dtype: float64"
      ]
     },
     "execution_count": 227,
     "metadata": {},
     "output_type": "execute_result"
    }
   ],
   "source": [
    "#We Can see that alot of the value is missing so we are going to replace the NAN value with Zero\n",
    "df_null = round(100*(cellphones.isnull().sum())/len(cellphones), 2)\n",
    "df_null\n"
   ]
  },
  {
   "cell_type": "code",
   "execution_count": 228,
   "metadata": {},
   "outputs": [
    {
     "data": {
      "text/plain": [
       "datetime       0.0\n",
       "CellID         0.0\n",
       "countrycode    0.0\n",
       "smsin          0.0\n",
       "smsout         0.0\n",
       "callin         0.0\n",
       "callout        0.0\n",
       "internet       0.0\n",
       "dtype: float64"
      ]
     },
     "execution_count": 228,
     "metadata": {},
     "output_type": "execute_result"
    }
   ],
   "source": [
    "cellphones['smsin'] = cellphones['smsin'].fillna(0)\n",
    "cellphones['smsout'] = cellphones['smsin'].fillna(0)\n",
    "cellphones['callin'] = cellphones['callin'].fillna(0)\n",
    "cellphones['callout'] = cellphones['callout'].fillna(0)\n",
    "cellphones['internet'] = cellphones['internet'].fillna(0)\n",
    "\n",
    "df_null = round(100*(cellphones.isnull().sum())/len(cellphones), 2)\n",
    "df_null"
   ]
  },
  {
   "cell_type": "code",
   "execution_count": 229,
   "metadata": {},
   "outputs": [
    {
     "name": "stdout",
     "output_type": "stream",
     "text": [
      "<class 'pandas.core.frame.DataFrame'>\n",
      "Int64Index: 13197237 entries, 0 to 2407383\n",
      "Data columns (total 8 columns):\n",
      " #   Column       Non-Null Count     Dtype  \n",
      "---  ------       --------------     -----  \n",
      " 0   datetime     13197237 non-null  object \n",
      " 1   CellID       13197237 non-null  int64  \n",
      " 2   countrycode  13197237 non-null  int64  \n",
      " 3   smsin        13197237 non-null  float64\n",
      " 4   smsout       13197237 non-null  float64\n",
      " 5   callin       13197237 non-null  float64\n",
      " 6   callout      13197237 non-null  float64\n",
      " 7   internet     13197237 non-null  float64\n",
      "dtypes: float64(5), int64(2), object(1)\n",
      "memory usage: 906.2+ MB\n"
     ]
    }
   ],
   "source": [
    "cellphones.info(show_counts=True)"
   ]
  },
  {
   "cell_type": "code",
   "execution_count": 230,
   "metadata": {},
   "outputs": [
    {
     "name": "stdout",
     "output_type": "stream",
     "text": [
      "<class 'pandas.core.frame.DataFrame'>\n",
      "Int64Index: 13197237 entries, 0 to 2407383\n",
      "Data columns (total 8 columns):\n",
      " #   Column       Dtype         \n",
      "---  ------       -----         \n",
      " 0   datetime     datetime64[ns]\n",
      " 1   CellID       object        \n",
      " 2   countrycode  int64         \n",
      " 3   smsin        float64       \n",
      " 4   smsout       float64       \n",
      " 5   callin       float64       \n",
      " 6   callout      float64       \n",
      " 7   internet     float64       \n",
      "dtypes: datetime64[ns](1), float64(5), int64(1), object(1)\n",
      "memory usage: 906.2+ MB\n"
     ]
    }
   ],
   "source": [
    "# Changing the datatype of Customer Id as per Business understanding\n",
    "\n",
    "cellphones.loc[:,'CellID'] = cellphones.loc[:,'CellID'].astype(str)\n",
    "cellphones.loc[:,'datetime'] = pd.to_datetime(cellphones.loc[:,'datetime'],format='%Y-%m-%d %H:%M:%S')\n",
    "cellphones.info()"
   ]
  },
  {
   "cell_type": "code",
   "execution_count": 231,
   "metadata": {},
   "outputs": [
    {
     "data": {
      "text/html": [
       "<div>\n",
       "<style scoped>\n",
       "    .dataframe tbody tr th:only-of-type {\n",
       "        vertical-align: middle;\n",
       "    }\n",
       "\n",
       "    .dataframe tbody tr th {\n",
       "        vertical-align: top;\n",
       "    }\n",
       "\n",
       "    .dataframe thead th {\n",
       "        text-align: right;\n",
       "    }\n",
       "</style>\n",
       "<table border=\"1\" class=\"dataframe\">\n",
       "  <thead>\n",
       "    <tr style=\"text-align: right;\">\n",
       "      <th></th>\n",
       "      <th>CellID</th>\n",
       "      <th>Amount</th>\n",
       "    </tr>\n",
       "  </thead>\n",
       "  <tbody>\n",
       "    <tr>\n",
       "      <th>0</th>\n",
       "      <td>1</td>\n",
       "      <td>10509.0913</td>\n",
       "    </tr>\n",
       "    <tr>\n",
       "      <th>1</th>\n",
       "      <td>10</td>\n",
       "      <td>6848.9344</td>\n",
       "    </tr>\n",
       "    <tr>\n",
       "      <th>2</th>\n",
       "      <td>100</td>\n",
       "      <td>17675.5173</td>\n",
       "    </tr>\n",
       "    <tr>\n",
       "      <th>3</th>\n",
       "      <td>1000</td>\n",
       "      <td>24415.9948</td>\n",
       "    </tr>\n",
       "    <tr>\n",
       "      <th>4</th>\n",
       "      <td>10000</td>\n",
       "      <td>21759.4396</td>\n",
       "    </tr>\n",
       "  </tbody>\n",
       "</table>\n",
       "</div>"
      ],
      "text/plain": [
       "  CellID      Amount\n",
       "0      1  10509.0913\n",
       "1     10   6848.9344\n",
       "2    100  17675.5173\n",
       "3   1000  24415.9948\n",
       "4  10000  21759.4396"
      ]
     },
     "execution_count": 231,
     "metadata": {},
     "output_type": "execute_result"
    }
   ],
   "source": [
    "#First we will group the custmers by how much the spent\n",
    "cellphones.loc[:,'Amount'] = cellphones.loc[:,'smsin']+cellphones.loc[:,'smsout']+cellphones.loc[:,'callin']+cellphones.loc[:,'callout']+cellphones.loc[:,'internet']\n",
    "cust_spending_grouping = cellphones.groupby('CellID')['Amount'].sum()\n",
    "cust_spending_grouping = cust_spending_grouping.reset_index()\n",
    "cust_spending_grouping.head()"
   ]
  },
  {
   "cell_type": "code",
   "execution_count": 12,
   "metadata": {},
   "outputs": [
    {
     "data": {
      "text/plain": [
       "(10000, 2)"
      ]
     },
     "execution_count": 12,
     "metadata": {},
     "output_type": "execute_result"
    }
   ],
   "source": [
    "cust_spending_grouping.shape"
   ]
  },
  {
   "cell_type": "code",
   "execution_count": 13,
   "metadata": {},
   "outputs": [
    {
     "data": {
      "text/html": [
       "<div>\n",
       "<style scoped>\n",
       "    .dataframe tbody tr th:only-of-type {\n",
       "        vertical-align: middle;\n",
       "    }\n",
       "\n",
       "    .dataframe tbody tr th {\n",
       "        vertical-align: top;\n",
       "    }\n",
       "\n",
       "    .dataframe thead th {\n",
       "        text-align: right;\n",
       "    }\n",
       "</style>\n",
       "<table border=\"1\" class=\"dataframe\">\n",
       "  <thead>\n",
       "    <tr style=\"text-align: right;\">\n",
       "      <th></th>\n",
       "      <th>Amount</th>\n",
       "    </tr>\n",
       "  </thead>\n",
       "  <tbody>\n",
       "    <tr>\n",
       "      <th>count</th>\n",
       "      <td>1.000000e+04</td>\n",
       "    </tr>\n",
       "    <tr>\n",
       "      <th>mean</th>\n",
       "      <td>7.459352e+04</td>\n",
       "    </tr>\n",
       "    <tr>\n",
       "      <th>std</th>\n",
       "      <td>1.190192e+05</td>\n",
       "    </tr>\n",
       "    <tr>\n",
       "      <th>min</th>\n",
       "      <td>3.323726e+02</td>\n",
       "    </tr>\n",
       "    <tr>\n",
       "      <th>25%</th>\n",
       "      <td>1.502578e+04</td>\n",
       "    </tr>\n",
       "    <tr>\n",
       "      <th>50%</th>\n",
       "      <td>3.619679e+04</td>\n",
       "    </tr>\n",
       "    <tr>\n",
       "      <th>75%</th>\n",
       "      <td>7.834237e+04</td>\n",
       "    </tr>\n",
       "    <tr>\n",
       "      <th>max</th>\n",
       "      <td>1.572655e+06</td>\n",
       "    </tr>\n",
       "  </tbody>\n",
       "</table>\n",
       "</div>"
      ],
      "text/plain": [
       "             Amount\n",
       "count  1.000000e+04\n",
       "mean   7.459352e+04\n",
       "std    1.190192e+05\n",
       "min    3.323726e+02\n",
       "25%    1.502578e+04\n",
       "50%    3.619679e+04\n",
       "75%    7.834237e+04\n",
       "max    1.572655e+06"
      ]
     },
     "execution_count": 13,
     "metadata": {},
     "output_type": "execute_result"
    }
   ],
   "source": [
    "cust_spending_grouping.describe()"
   ]
  },
  {
   "cell_type": "code",
   "execution_count": 14,
   "metadata": {},
   "outputs": [
    {
     "data": {
      "text/plain": [
       "array([[<AxesSubplot:title={'center':'Amount'}>]], dtype=object)"
      ]
     },
     "execution_count": 14,
     "metadata": {},
     "output_type": "execute_result"
    },
    {
     "data": {
      "image/png": "[encoded data removed]",
      "text/plain": [
       "<Figure size 864x432 with 1 Axes>"
      ]
     },
     "metadata": {
      "needs_background": "light"
     },
     "output_type": "display_data"
    }
   ],
   "source": [
    "cust_spending_grouping.hist(column='Amount', bins=100, figsize=(12,6))"
   ]
  },
  {
   "cell_type": "code",
   "execution_count": 15,
   "metadata": {},
   "outputs": [
    {
     "data": {
      "text/plain": [
       "Text(0.5, 0, 'Attributes')"
      ]
     },
     "execution_count": 15,
     "metadata": {},
     "output_type": "execute_result"
    },
    {
     "data": {
      "image/png": "[encoded data removed]",
      "text/plain": [
       "<Figure size 720x576 with 1 Axes>"
      ]
     },
     "metadata": {
      "needs_background": "light"
     },
     "output_type": "display_data"
    }
   ],
   "source": [
    "attributes = ['Amount']\n",
    "plt.rcParams['figure.figsize'] = [10,8]\n",
    "sns.boxplot(data = cust_spending_grouping[attributes], orient=\"v\", palette=\"Set2\" ,whis=1.5,saturation=1, width=0.7)\n",
    "plt.title(\"Outliers Variable Distribution\", fontsize = 14, fontweight = 'bold')\n",
    "plt.ylabel(\"Range\", fontweight = 'bold')\n",
    "plt.xlabel(\"Attributes\", fontweight = 'bold')"
   ]
  },
  {
   "cell_type": "code",
   "execution_count": 16,
   "metadata": {},
   "outputs": [],
   "source": [
    "#Removing (statistical) outliers for Amount\n",
    "Q1 = cust_spending_grouping.Amount.quantile(0.25)\n",
    "Q3 = cust_spending_grouping.Amount.quantile(0.75)\n",
    "IQR = Q3 - Q1\n",
    "cust_spending_grouping = cust_spending_grouping[(cust_spending_grouping.Amount >= Q1 - 1.5*IQR) & (cust_spending_grouping.Amount <= Q3 + 1.5*IQR)]"
   ]
  },
  {
   "cell_type": "code",
   "execution_count": 17,
   "metadata": {},
   "outputs": [
    {
     "data": {
      "text/plain": [
       "Text(0.5, 0, 'Attributes')"
      ]
     },
     "execution_count": 17,
     "metadata": {},
     "output_type": "execute_result"
    },
    {
     "data": {
      "image/png": "[encoded data removed]",
      "text/plain": [
       "<Figure size 720x576 with 1 Axes>"
      ]
     },
     "metadata": {
      "needs_background": "light"
     },
     "output_type": "display_data"
    }
   ],
   "source": [
    "attributes = ['Amount']\n",
    "plt.rcParams['figure.figsize'] = [10,8]\n",
    "sns.boxplot(data = cust_spending_grouping[attributes], orient=\"v\", palette=\"Set2\" ,whis=1.5,saturation=1, width=0.7)\n",
    "plt.title(\"Outliers Variable Distribution\", fontsize = 14, fontweight = 'bold')\n",
    "plt.ylabel(\"Range\", fontweight = 'bold')\n",
    "plt.xlabel(\"Attributes\", fontweight = 'bold')"
   ]
  },
  {
   "cell_type": "code",
   "execution_count": 18,
   "metadata": {},
   "outputs": [
    {
     "data": {
      "text/plain": [
       "array([[<AxesSubplot:title={'center':'Amount'}>]], dtype=object)"
      ]
     },
     "execution_count": 18,
     "metadata": {},
     "output_type": "execute_result"
    },
    {
     "data": {
      "image/png": "[encoded data removed]",
      "text/plain": [
       "<Figure size 864x432 with 1 Axes>"
      ]
     },
     "metadata": {
      "needs_background": "light"
     },
     "output_type": "display_data"
    }
   ],
   "source": [
    "cust_spending_grouping.hist(column='Amount', bins=100, figsize=(12,6))"
   ]
  },
  {
   "cell_type": "code",
   "execution_count": 19,
   "metadata": {},
   "outputs": [
    {
     "data": {
      "text/plain": [
       "(8983, 1)"
      ]
     },
     "execution_count": 19,
     "metadata": {},
     "output_type": "execute_result"
    }
   ],
   "source": [
    "# Rescaling the attributes\n",
    "\n",
    "cust_spending_grouping_df = cust_spending_grouping[['Amount']]\n",
    "\n",
    "# Instantiate\n",
    "scaler = StandardScaler()\n",
    "\n",
    "# fit_transform\n",
    "cust_spending_grouping_df_scaled = scaler.fit_transform(cust_spending_grouping_df)\n",
    "cust_spending_grouping_df_scaled.shape"
   ]
  },
  {
   "cell_type": "code",
   "execution_count": 20,
   "metadata": {},
   "outputs": [
    {
     "data": {
      "text/html": [
       "<div>\n",
       "<style scoped>\n",
       "    .dataframe tbody tr th:only-of-type {\n",
       "        vertical-align: middle;\n",
       "    }\n",
       "\n",
       "    .dataframe tbody tr th {\n",
       "        vertical-align: top;\n",
       "    }\n",
       "\n",
       "    .dataframe thead th {\n",
       "        text-align: right;\n",
       "    }\n",
       "</style>\n",
       "<table border=\"1\" class=\"dataframe\">\n",
       "  <thead>\n",
       "    <tr style=\"text-align: right;\">\n",
       "      <th></th>\n",
       "      <th>Amount</th>\n",
       "    </tr>\n",
       "  </thead>\n",
       "  <tbody>\n",
       "    <tr>\n",
       "      <th>0</th>\n",
       "      <td>-0.854568</td>\n",
       "    </tr>\n",
       "    <tr>\n",
       "      <th>1</th>\n",
       "      <td>-0.952765</td>\n",
       "    </tr>\n",
       "    <tr>\n",
       "      <th>2</th>\n",
       "      <td>-0.662303</td>\n",
       "    </tr>\n",
       "    <tr>\n",
       "      <th>3</th>\n",
       "      <td>-0.481465</td>\n",
       "    </tr>\n",
       "    <tr>\n",
       "      <th>4</th>\n",
       "      <td>-0.552737</td>\n",
       "    </tr>\n",
       "  </tbody>\n",
       "</table>\n",
       "</div>"
      ],
      "text/plain": [
       "     Amount\n",
       "0 -0.854568\n",
       "1 -0.952765\n",
       "2 -0.662303\n",
       "3 -0.481465\n",
       "4 -0.552737"
      ]
     },
     "execution_count": 20,
     "metadata": {},
     "output_type": "execute_result"
    }
   ],
   "source": [
    "cust_spending_grouping_df_scaled = pd.DataFrame(cust_spending_grouping_df_scaled)\n",
    "cust_spending_grouping_df_scaled.columns = ['Amount']\n",
    "cust_spending_grouping_df_scaled.head()"
   ]
  },
  {
   "cell_type": "code",
   "execution_count": 21,
   "metadata": {},
   "outputs": [
    {
     "data": {
      "text/plain": [
       "array([[<AxesSubplot:title={'center':'Amount'}>]], dtype=object)"
      ]
     },
     "execution_count": 21,
     "metadata": {},
     "output_type": "execute_result"
    },
    {
     "data": {
      "image/png": "[encoded data removed]",
      "text/plain": [
       "<Figure size 864x432 with 1 Axes>"
      ]
     },
     "metadata": {
      "needs_background": "light"
     },
     "output_type": "display_data"
    }
   ],
   "source": [
    "cust_spending_grouping_df_scaled.hist(column='Amount', bins=100, figsize=(12,6))"
   ]
  },
  {
   "cell_type": "code",
   "execution_count": 22,
   "metadata": {},
   "outputs": [
    {
     "data": {
      "text/html": [
       "<div>\n",
       "<style scoped>\n",
       "    .dataframe tbody tr th:only-of-type {\n",
       "        vertical-align: middle;\n",
       "    }\n",
       "\n",
       "    .dataframe tbody tr th {\n",
       "        vertical-align: top;\n",
       "    }\n",
       "\n",
       "    .dataframe thead th {\n",
       "        text-align: right;\n",
       "    }\n",
       "</style>\n",
       "<table border=\"1\" class=\"dataframe\">\n",
       "  <thead>\n",
       "    <tr style=\"text-align: right;\">\n",
       "      <th></th>\n",
       "      <th>Amount</th>\n",
       "    </tr>\n",
       "  </thead>\n",
       "  <tbody>\n",
       "    <tr>\n",
       "      <th>count</th>\n",
       "      <td>8.983000e+03</td>\n",
       "    </tr>\n",
       "    <tr>\n",
       "      <th>mean</th>\n",
       "      <td>2.626074e-16</td>\n",
       "    </tr>\n",
       "    <tr>\n",
       "      <th>std</th>\n",
       "      <td>1.000056e+00</td>\n",
       "    </tr>\n",
       "    <tr>\n",
       "      <th>min</th>\n",
       "      <td>-1.127595e+00</td>\n",
       "    </tr>\n",
       "    <tr>\n",
       "      <th>25%</th>\n",
       "      <td>-7.781115e-01</td>\n",
       "    </tr>\n",
       "    <tr>\n",
       "      <th>50%</th>\n",
       "      <td>-2.944904e-01</td>\n",
       "    </tr>\n",
       "    <tr>\n",
       "      <th>75%</th>\n",
       "      <td>4.678062e-01</td>\n",
       "    </tr>\n",
       "    <tr>\n",
       "      <th>max</th>\n",
       "      <td>3.513089e+00</td>\n",
       "    </tr>\n",
       "  </tbody>\n",
       "</table>\n",
       "</div>"
      ],
      "text/plain": [
       "             Amount\n",
       "count  8.983000e+03\n",
       "mean   2.626074e-16\n",
       "std    1.000056e+00\n",
       "min   -1.127595e+00\n",
       "25%   -7.781115e-01\n",
       "50%   -2.944904e-01\n",
       "75%    4.678062e-01\n",
       "max    3.513089e+00"
      ]
     },
     "execution_count": 22,
     "metadata": {},
     "output_type": "execute_result"
    }
   ],
   "source": [
    "cust_spending_grouping_df_scaled.describe()"
   ]
  },
  {
   "cell_type": "code",
   "execution_count": 23,
   "metadata": {},
   "outputs": [
    {
     "data": {
      "text/plain": [
       "KMeans(max_iter=50, n_clusters=4)"
      ]
     },
     "execution_count": 23,
     "metadata": {},
     "output_type": "execute_result"
    }
   ],
   "source": [
    "kmeans = KMeans(n_clusters=4, max_iter=50)\n",
    "kmeans.fit(cust_spending_grouping_df_scaled)"
   ]
  },
  {
   "cell_type": "code",
   "execution_count": 24,
   "metadata": {},
   "outputs": [
    {
     "data": {
      "text/plain": [
       "[<matplotlib.lines.Line2D at 0x1e46d217bb0>]"
      ]
     },
     "execution_count": 24,
     "metadata": {},
     "output_type": "execute_result"
    },
    {
     "data": {
      "image/png": "[encoded data removed]",
      "text/plain": [
       "<Figure size 720x576 with 1 Axes>"
      ]
     },
     "metadata": {
      "needs_background": "light"
     },
     "output_type": "display_data"
    }
   ],
   "source": [
    "# Elbow-curve/SSD\n",
    "\n",
    "ssd = []\n",
    "range_n_clusters = [2, 3, 4, 5, 6, 7, 8, 9, 10, 11, 12, 13, 14, 15]\n",
    "for num_clusters in range_n_clusters:\n",
    "    kmeans = KMeans(n_clusters=num_clusters, max_iter=50)\n",
    "    kmeans.fit(cust_spending_grouping_df_scaled)\n",
    "    \n",
    "    ssd.append(kmeans.inertia_)\n",
    "    \n",
    "# plot the SSDs for each n_clusters\n",
    "plt.plot(ssd)"
   ]
  },
  {
   "cell_type": "code",
   "execution_count": 25,
   "metadata": {},
   "outputs": [
    {
     "name": "stdout",
     "output_type": "stream",
     "text": [
      "For n_clusters=2, the silhouette score is 0.6678521427505614\n",
      "For n_clusters=3, the silhouette score is 0.5968743194982374\n",
      "For n_clusters=4, the silhouette score is 0.6013792857965597\n",
      "For n_clusters=5, the silhouette score is 0.5875974721924797\n",
      "For n_clusters=6, the silhouette score is 0.5665001283701419\n",
      "For n_clusters=7, the silhouette score is 0.5553800585806937\n",
      "For n_clusters=8, the silhouette score is 0.5588907419682871\n",
      "For n_clusters=9, the silhouette score is 0.546122501128325\n",
      "For n_clusters=10, the silhouette score is 0.5480945294083936\n",
      "For n_clusters=11, the silhouette score is 0.5470446499708479\n",
      "For n_clusters=12, the silhouette score is 0.5470414918109433\n",
      "For n_clusters=13, the silhouette score is 0.5531150168528763\n",
      "For n_clusters=14, the silhouette score is 0.5518984189746888\n",
      "For n_clusters=15, the silhouette score is 0.5536518819131707\n"
     ]
    }
   ],
   "source": [
    "for num_clusters in range_n_clusters:\n",
    "    \n",
    "    # intialise kmeans\n",
    "    kmeans = KMeans(n_clusters=num_clusters, max_iter=50)\n",
    "    kmeans.fit(cust_spending_grouping_df_scaled)\n",
    "    \n",
    "    cluster_labels = kmeans.labels_\n",
    "    \n",
    "    # silhouette score\n",
    "    silhouette_avg = silhouette_score(cust_spending_grouping_df_scaled, cluster_labels)\n",
    "    print(\"For n_clusters={0}, the silhouette score is {1}\".format(num_clusters, silhouette_avg))"
   ]
  },
  {
   "cell_type": "code",
   "execution_count": 26,
   "metadata": {},
   "outputs": [
    {
     "data": {
      "text/plain": [
       "KMeans(max_iter=50, n_clusters=4)"
      ]
     },
     "execution_count": 26,
     "metadata": {},
     "output_type": "execute_result"
    }
   ],
   "source": [
    "# Final model with k=4\n",
    "kmeans = KMeans(n_clusters=4, max_iter=50)\n",
    "kmeans.fit(cust_spending_grouping_df_scaled)"
   ]
  },
  {
   "cell_type": "code",
   "execution_count": 27,
   "metadata": {},
   "outputs": [
    {
     "data": {
      "text/plain": [
       "array([3, 3, 3, ..., 0, 0, 3])"
      ]
     },
     "execution_count": 27,
     "metadata": {},
     "output_type": "execute_result"
    }
   ],
   "source": [
    "kmeans.labels_"
   ]
  },
  {
   "cell_type": "code",
   "execution_count": 28,
   "metadata": {},
   "outputs": [
    {
     "data": {
      "text/html": [
       "<div>\n",
       "<style scoped>\n",
       "    .dataframe tbody tr th:only-of-type {\n",
       "        vertical-align: middle;\n",
       "    }\n",
       "\n",
       "    .dataframe tbody tr th {\n",
       "        vertical-align: top;\n",
       "    }\n",
       "\n",
       "    .dataframe thead th {\n",
       "        text-align: right;\n",
       "    }\n",
       "</style>\n",
       "<table border=\"1\" class=\"dataframe\">\n",
       "  <thead>\n",
       "    <tr style=\"text-align: right;\">\n",
       "      <th></th>\n",
       "      <th>CellID</th>\n",
       "      <th>Amount</th>\n",
       "      <th>Cluster_Id</th>\n",
       "    </tr>\n",
       "  </thead>\n",
       "  <tbody>\n",
       "    <tr>\n",
       "      <th>0</th>\n",
       "      <td>1</td>\n",
       "      <td>10509.0913</td>\n",
       "      <td>3</td>\n",
       "    </tr>\n",
       "    <tr>\n",
       "      <th>1</th>\n",
       "      <td>10</td>\n",
       "      <td>6848.9344</td>\n",
       "      <td>3</td>\n",
       "    </tr>\n",
       "    <tr>\n",
       "      <th>2</th>\n",
       "      <td>100</td>\n",
       "      <td>17675.5173</td>\n",
       "      <td>3</td>\n",
       "    </tr>\n",
       "    <tr>\n",
       "      <th>3</th>\n",
       "      <td>1000</td>\n",
       "      <td>24415.9948</td>\n",
       "      <td>3</td>\n",
       "    </tr>\n",
       "    <tr>\n",
       "      <th>4</th>\n",
       "      <td>10000</td>\n",
       "      <td>21759.4396</td>\n",
       "      <td>3</td>\n",
       "    </tr>\n",
       "  </tbody>\n",
       "</table>\n",
       "</div>"
      ],
      "text/plain": [
       "  CellID      Amount  Cluster_Id\n",
       "0      1  10509.0913           3\n",
       "1     10   6848.9344           3\n",
       "2    100  17675.5173           3\n",
       "3   1000  24415.9948           3\n",
       "4  10000  21759.4396           3"
      ]
     },
     "execution_count": 28,
     "metadata": {},
     "output_type": "execute_result"
    }
   ],
   "source": [
    "# assign the label\n",
    "cust_spending_grouping['Cluster_Id'] = kmeans.labels_\n",
    "cust_spending_grouping.head()"
   ]
  },
  {
   "cell_type": "code",
   "execution_count": 29,
   "metadata": {},
   "outputs": [
    {
     "data": {
      "text/plain": [
       "<AxesSubplot:xlabel='Cluster_Id', ylabel='Amount'>"
      ]
     },
     "execution_count": 29,
     "metadata": {},
     "output_type": "execute_result"
    },
    {
     "data": {
      "image/png": "[encoded data removed]",
      "text/plain": [
       "<Figure size 720x576 with 1 Axes>"
      ]
     },
     "metadata": {
      "needs_background": "light"
     },
     "output_type": "display_data"
    }
   ],
   "source": [
    "# Box plot to visualize Cluster Id vs Frequency\n",
    "\n",
    "sns.boxplot(x='Cluster_Id', y='Amount', data=cust_spending_grouping)"
   ]
  },
  {
   "cell_type": "code",
   "execution_count": 30,
   "metadata": {},
   "outputs": [],
   "source": [
    "#The Second Section\n",
    "#here we will try to cluster the data to find the proper daily offers and \n"
   ]
  },
  {
   "cell_type": "code",
   "execution_count": 31,
   "metadata": {},
   "outputs": [
    {
     "name": "stdout",
     "output_type": "stream",
     "text": [
      "<class 'pandas.core.frame.DataFrame'>\n",
      "Int64Index: 13197237 entries, 0 to 2407383\n",
      "Data columns (total 9 columns):\n",
      " #   Column       Dtype         \n",
      "---  ------       -----         \n",
      " 0   datetime     datetime64[ns]\n",
      " 1   CellID       object        \n",
      " 2   countrycode  int64         \n",
      " 3   smsin        float64       \n",
      " 4   smsout       float64       \n",
      " 5   callin       float64       \n",
      " 6   callout      float64       \n",
      " 7   internet     float64       \n",
      " 8   Amount       float64       \n",
      "dtypes: datetime64[ns](1), float64(6), int64(1), object(1)\n",
      "memory usage: 1006.9+ MB\n"
     ]
    }
   ],
   "source": [
    "cellphones.loc[:,'datetime'] = pd.to_datetime(cellphones.loc[:,'datetime'],format='%Y-%m-%d %H:%M:%S')\n",
    "cellphones.info()"
   ]
  },
  {
   "cell_type": "code",
   "execution_count": 32,
   "metadata": {},
   "outputs": [],
   "source": [
    "daily_offer = cellphones"
   ]
  },
  {
   "cell_type": "code",
   "execution_count": 33,
   "metadata": {},
   "outputs": [],
   "source": [
    "daily_offer.loc[:,'datetime'] = daily_offer.loc[:,'datetime'].dt.date"
   ]
  },
  {
   "cell_type": "code",
   "execution_count": 38,
   "metadata": {},
   "outputs": [
    {
     "data": {
      "text/html": [
       "<div>\n",
       "<style scoped>\n",
       "    .dataframe tbody tr th:only-of-type {\n",
       "        vertical-align: middle;\n",
       "    }\n",
       "\n",
       "    .dataframe tbody tr th {\n",
       "        vertical-align: top;\n",
       "    }\n",
       "\n",
       "    .dataframe thead th {\n",
       "        text-align: right;\n",
       "    }\n",
       "</style>\n",
       "<table border=\"1\" class=\"dataframe\">\n",
       "  <thead>\n",
       "    <tr style=\"text-align: right;\">\n",
       "      <th></th>\n",
       "      <th>datetime</th>\n",
       "      <th>CellID</th>\n",
       "      <th>countrycode</th>\n",
       "      <th>smsin</th>\n",
       "      <th>smsout</th>\n",
       "      <th>callin</th>\n",
       "      <th>callout</th>\n",
       "      <th>internet</th>\n",
       "      <th>Amount</th>\n",
       "    </tr>\n",
       "  </thead>\n",
       "  <tbody>\n",
       "    <tr>\n",
       "      <th>0</th>\n",
       "      <td>2013-11-02</td>\n",
       "      <td>1</td>\n",
       "      <td>0</td>\n",
       "      <td>0.2445</td>\n",
       "      <td>0.2445</td>\n",
       "      <td>0.0000</td>\n",
       "      <td>0.0000</td>\n",
       "      <td>0.0000</td>\n",
       "      <td>0.4890</td>\n",
       "    </tr>\n",
       "    <tr>\n",
       "      <th>1</th>\n",
       "      <td>2013-11-02</td>\n",
       "      <td>1</td>\n",
       "      <td>39</td>\n",
       "      <td>1.4952</td>\n",
       "      <td>1.4952</td>\n",
       "      <td>0.2708</td>\n",
       "      <td>0.3004</td>\n",
       "      <td>46.5094</td>\n",
       "      <td>50.0710</td>\n",
       "    </tr>\n",
       "    <tr>\n",
       "      <th>2</th>\n",
       "      <td>2013-11-02</td>\n",
       "      <td>1</td>\n",
       "      <td>53</td>\n",
       "      <td>0.0018</td>\n",
       "      <td>0.0018</td>\n",
       "      <td>0.0000</td>\n",
       "      <td>0.0000</td>\n",
       "      <td>0.0000</td>\n",
       "      <td>0.0036</td>\n",
       "    </tr>\n",
       "    <tr>\n",
       "      <th>3</th>\n",
       "      <td>2013-11-02</td>\n",
       "      <td>2</td>\n",
       "      <td>0</td>\n",
       "      <td>0.2458</td>\n",
       "      <td>0.2458</td>\n",
       "      <td>0.0000</td>\n",
       "      <td>0.0000</td>\n",
       "      <td>0.0000</td>\n",
       "      <td>0.4916</td>\n",
       "    </tr>\n",
       "    <tr>\n",
       "      <th>4</th>\n",
       "      <td>2013-11-02</td>\n",
       "      <td>2</td>\n",
       "      <td>39</td>\n",
       "      <td>1.5028</td>\n",
       "      <td>1.5028</td>\n",
       "      <td>0.2751</td>\n",
       "      <td>0.3023</td>\n",
       "      <td>46.6933</td>\n",
       "      <td>50.2763</td>\n",
       "    </tr>\n",
       "  </tbody>\n",
       "</table>\n",
       "</div>"
      ],
      "text/plain": [
       "     datetime CellID  countrycode   smsin  smsout  callin  callout  internet  \\\n",
       "0  2013-11-02      1            0  0.2445  0.2445  0.0000   0.0000    0.0000   \n",
       "1  2013-11-02      1           39  1.4952  1.4952  0.2708   0.3004   46.5094   \n",
       "2  2013-11-02      1           53  0.0018  0.0018  0.0000   0.0000    0.0000   \n",
       "3  2013-11-02      2            0  0.2458  0.2458  0.0000   0.0000    0.0000   \n",
       "4  2013-11-02      2           39  1.5028  1.5028  0.2751   0.3023   46.6933   \n",
       "\n",
       "    Amount  \n",
       "0   0.4890  \n",
       "1  50.0710  \n",
       "2   0.0036  \n",
       "3   0.4916  \n",
       "4  50.2763  "
      ]
     },
     "execution_count": 38,
     "metadata": {},
     "output_type": "execute_result"
    }
   ],
   "source": [
    "gp_daily_offer.head()"
   ]
  },
  {
   "cell_type": "code",
   "execution_count": 46,
   "metadata": {},
   "outputs": [],
   "source": [
    "gp_daily_offer = daily_offer.groupby(['datetime','CellID'],as_index=False).sum()"
   ]
  },
  {
   "cell_type": "code",
   "execution_count": 47,
   "metadata": {},
   "outputs": [
    {
     "data": {
      "text/html": [
       "<div>\n",
       "<style scoped>\n",
       "    .dataframe tbody tr th:only-of-type {\n",
       "        vertical-align: middle;\n",
       "    }\n",
       "\n",
       "    .dataframe tbody tr th {\n",
       "        vertical-align: top;\n",
       "    }\n",
       "\n",
       "    .dataframe thead th {\n",
       "        text-align: right;\n",
       "    }\n",
       "</style>\n",
       "<table border=\"1\" class=\"dataframe\">\n",
       "  <thead>\n",
       "    <tr style=\"text-align: right;\">\n",
       "      <th></th>\n",
       "      <th>datetime</th>\n",
       "      <th>CellID</th>\n",
       "      <th>countrycode</th>\n",
       "      <th>smsin</th>\n",
       "      <th>smsout</th>\n",
       "      <th>callin</th>\n",
       "      <th>callout</th>\n",
       "      <th>internet</th>\n",
       "      <th>Amount</th>\n",
       "    </tr>\n",
       "  </thead>\n",
       "  <tbody>\n",
       "    <tr>\n",
       "      <th>0</th>\n",
       "      <td>2013-11-02</td>\n",
       "      <td>1</td>\n",
       "      <td>10480</td>\n",
       "      <td>86.4157</td>\n",
       "      <td>86.4157</td>\n",
       "      <td>47.8908</td>\n",
       "      <td>53.5900</td>\n",
       "      <td>1515.6415</td>\n",
       "      <td>1789.9537</td>\n",
       "    </tr>\n",
       "    <tr>\n",
       "      <th>1</th>\n",
       "      <td>2013-11-02</td>\n",
       "      <td>10</td>\n",
       "      <td>8343</td>\n",
       "      <td>67.5846</td>\n",
       "      <td>67.5846</td>\n",
       "      <td>37.7126</td>\n",
       "      <td>43.0524</td>\n",
       "      <td>934.3876</td>\n",
       "      <td>1150.3218</td>\n",
       "    </tr>\n",
       "    <tr>\n",
       "      <th>2</th>\n",
       "      <td>2013-11-02</td>\n",
       "      <td>100</td>\n",
       "      <td>10646</td>\n",
       "      <td>55.9419</td>\n",
       "      <td>55.9419</td>\n",
       "      <td>37.4252</td>\n",
       "      <td>43.1022</td>\n",
       "      <td>1963.1548</td>\n",
       "      <td>2155.5660</td>\n",
       "    </tr>\n",
       "    <tr>\n",
       "      <th>3</th>\n",
       "      <td>2013-11-02</td>\n",
       "      <td>1000</td>\n",
       "      <td>208632</td>\n",
       "      <td>327.2457</td>\n",
       "      <td>327.2457</td>\n",
       "      <td>208.9230</td>\n",
       "      <td>210.8084</td>\n",
       "      <td>4334.8450</td>\n",
       "      <td>5409.0678</td>\n",
       "    </tr>\n",
       "    <tr>\n",
       "      <th>4</th>\n",
       "      <td>2013-11-02</td>\n",
       "      <td>10000</td>\n",
       "      <td>192797</td>\n",
       "      <td>151.0133</td>\n",
       "      <td>151.0133</td>\n",
       "      <td>112.7380</td>\n",
       "      <td>117.7561</td>\n",
       "      <td>2761.8810</td>\n",
       "      <td>3294.4017</td>\n",
       "    </tr>\n",
       "  </tbody>\n",
       "</table>\n",
       "</div>"
      ],
      "text/plain": [
       "     datetime CellID  countrycode     smsin    smsout    callin   callout  \\\n",
       "0  2013-11-02      1        10480   86.4157   86.4157   47.8908   53.5900   \n",
       "1  2013-11-02     10         8343   67.5846   67.5846   37.7126   43.0524   \n",
       "2  2013-11-02    100        10646   55.9419   55.9419   37.4252   43.1022   \n",
       "3  2013-11-02   1000       208632  327.2457  327.2457  208.9230  210.8084   \n",
       "4  2013-11-02  10000       192797  151.0133  151.0133  112.7380  117.7561   \n",
       "\n",
       "    internet     Amount  \n",
       "0  1515.6415  1789.9537  \n",
       "1   934.3876  1150.3218  \n",
       "2  1963.1548  2155.5660  \n",
       "3  4334.8450  5409.0678  \n",
       "4  2761.8810  3294.4017  "
      ]
     },
     "execution_count": 47,
     "metadata": {},
     "output_type": "execute_result"
    }
   ],
   "source": [
    "gp_daily_offer.reset_index()\n",
    "gp_daily_offer.head()"
   ]
  },
  {
   "cell_type": "code",
   "execution_count": 49,
   "metadata": {},
   "outputs": [
    {
     "name": "stdout",
     "output_type": "stream",
     "text": [
      "<class 'pandas.core.frame.DataFrame'>\n",
      "Int64Index: 60000 entries, 0 to 59999\n",
      "Data columns (total 9 columns):\n",
      " #   Column       Non-Null Count  Dtype  \n",
      "---  ------       --------------  -----  \n",
      " 0   datetime     60000 non-null  object \n",
      " 1   CellID       60000 non-null  object \n",
      " 2   countrycode  60000 non-null  int64  \n",
      " 3   smsin        60000 non-null  float64\n",
      " 4   smsout       60000 non-null  float64\n",
      " 5   callin       60000 non-null  float64\n",
      " 6   callout      60000 non-null  float64\n",
      " 7   internet     60000 non-null  float64\n",
      " 8   Amount       60000 non-null  float64\n",
      "dtypes: float64(6), int64(1), object(2)\n",
      "memory usage: 4.6+ MB\n"
     ]
    }
   ],
   "source": [
    "gp_daily_offer.info()"
   ]
  },
  {
   "cell_type": "code",
   "execution_count": 50,
   "metadata": {},
   "outputs": [],
   "source": [
    "#Removing (statistical) outliers for Amount\n",
    "Q1 = gp_daily_offer.Amount.quantile(0.25)\n",
    "Q3 = gp_daily_offer.Amount.quantile(0.75)\n",
    "IQR = Q3 - Q1\n",
    "gp_daily_offer = gp_daily_offer[(gp_daily_offer.Amount >= Q1 - 1.5*IQR) & (gp_daily_offer.Amount <= Q3 + 1.5*IQR)]"
   ]
  },
  {
   "cell_type": "code",
   "execution_count": 51,
   "metadata": {},
   "outputs": [
    {
     "data": {
      "text/plain": [
       "<AxesSubplot:>"
      ]
     },
     "execution_count": 51,
     "metadata": {},
     "output_type": "execute_result"
    },
    {
     "data": {
      "image/png": "[encoded data removed]",
      "text/plain": [
       "<Figure size 720x576 with 1 Axes>"
      ]
     },
     "metadata": {
      "needs_background": "light"
     },
     "output_type": "display_data"
    }
   ],
   "source": [
    "gp_daily_offer.Amount.hist(bins=100)"
   ]
  },
  {
   "cell_type": "code",
   "execution_count": 52,
   "metadata": {},
   "outputs": [
    {
     "data": {
      "text/plain": [
       "(53921, 1)"
      ]
     },
     "execution_count": 52,
     "metadata": {},
     "output_type": "execute_result"
    }
   ],
   "source": [
    "# Rescaling the attributes\n",
    "\n",
    "gp_daily_offer_df = gp_daily_offer[['Amount']]\n",
    "\n",
    "# Instantiate\n",
    "scaler = StandardScaler()\n",
    "\n",
    "# fit_transform\n",
    "gp_daily_offer_df_scaled = scaler.fit_transform(gp_daily_offer_df)\n",
    "gp_daily_offer_df_scaled.shape"
   ]
  },
  {
   "cell_type": "code",
   "execution_count": 53,
   "metadata": {},
   "outputs": [
    {
     "data": {
      "text/html": [
       "<div>\n",
       "<style scoped>\n",
       "    .dataframe tbody tr th:only-of-type {\n",
       "        vertical-align: middle;\n",
       "    }\n",
       "\n",
       "    .dataframe tbody tr th {\n",
       "        vertical-align: top;\n",
       "    }\n",
       "\n",
       "    .dataframe thead th {\n",
       "        text-align: right;\n",
       "    }\n",
       "</style>\n",
       "<table border=\"1\" class=\"dataframe\">\n",
       "  <thead>\n",
       "    <tr style=\"text-align: right;\">\n",
       "      <th></th>\n",
       "      <th>Amount</th>\n",
       "    </tr>\n",
       "  </thead>\n",
       "  <tbody>\n",
       "    <tr>\n",
       "      <th>0</th>\n",
       "      <td>-0.840033</td>\n",
       "    </tr>\n",
       "    <tr>\n",
       "      <th>1</th>\n",
       "      <td>-0.943382</td>\n",
       "    </tr>\n",
       "    <tr>\n",
       "      <th>2</th>\n",
       "      <td>-0.780959</td>\n",
       "    </tr>\n",
       "    <tr>\n",
       "      <th>3</th>\n",
       "      <td>-0.255273</td>\n",
       "    </tr>\n",
       "    <tr>\n",
       "      <th>4</th>\n",
       "      <td>-0.596951</td>\n",
       "    </tr>\n",
       "  </tbody>\n",
       "</table>\n",
       "</div>"
      ],
      "text/plain": [
       "     Amount\n",
       "0 -0.840033\n",
       "1 -0.943382\n",
       "2 -0.780959\n",
       "3 -0.255273\n",
       "4 -0.596951"
      ]
     },
     "execution_count": 53,
     "metadata": {},
     "output_type": "execute_result"
    }
   ],
   "source": [
    "gp_daily_offer_df_scaled = pd.DataFrame(gp_daily_offer_df_scaled)\n",
    "gp_daily_offer_df_scaled.columns = ['Amount']\n",
    "gp_daily_offer_df_scaled.head()"
   ]
  },
  {
   "cell_type": "code",
   "execution_count": 54,
   "metadata": {},
   "outputs": [
    {
     "data": {
      "text/html": [
       "<div>\n",
       "<style scoped>\n",
       "    .dataframe tbody tr th:only-of-type {\n",
       "        vertical-align: middle;\n",
       "    }\n",
       "\n",
       "    .dataframe tbody tr th {\n",
       "        vertical-align: top;\n",
       "    }\n",
       "\n",
       "    .dataframe thead th {\n",
       "        text-align: right;\n",
       "    }\n",
       "</style>\n",
       "<table border=\"1\" class=\"dataframe\">\n",
       "  <thead>\n",
       "    <tr style=\"text-align: right;\">\n",
       "      <th></th>\n",
       "      <th>Amount</th>\n",
       "    </tr>\n",
       "  </thead>\n",
       "  <tbody>\n",
       "    <tr>\n",
       "      <th>count</th>\n",
       "      <td>5.392100e+04</td>\n",
       "    </tr>\n",
       "    <tr>\n",
       "      <th>mean</th>\n",
       "      <td>-6.746868e-17</td>\n",
       "    </tr>\n",
       "    <tr>\n",
       "      <th>std</th>\n",
       "      <td>1.000009e+00</td>\n",
       "    </tr>\n",
       "    <tr>\n",
       "      <th>min</th>\n",
       "      <td>-1.121085e+00</td>\n",
       "    </tr>\n",
       "    <tr>\n",
       "      <th>25%</th>\n",
       "      <td>-7.814597e-01</td>\n",
       "    </tr>\n",
       "    <tr>\n",
       "      <th>50%</th>\n",
       "      <td>-2.977844e-01</td>\n",
       "    </tr>\n",
       "    <tr>\n",
       "      <th>75%</th>\n",
       "      <td>4.645924e-01</td>\n",
       "    </tr>\n",
       "    <tr>\n",
       "      <th>max</th>\n",
       "      <td>3.509935e+00</td>\n",
       "    </tr>\n",
       "  </tbody>\n",
       "</table>\n",
       "</div>"
      ],
      "text/plain": [
       "             Amount\n",
       "count  5.392100e+04\n",
       "mean  -6.746868e-17\n",
       "std    1.000009e+00\n",
       "min   -1.121085e+00\n",
       "25%   -7.814597e-01\n",
       "50%   -2.977844e-01\n",
       "75%    4.645924e-01\n",
       "max    3.509935e+00"
      ]
     },
     "execution_count": 54,
     "metadata": {},
     "output_type": "execute_result"
    }
   ],
   "source": [
    "gp_daily_offer_df_scaled.describe()"
   ]
  },
  {
   "cell_type": "code",
   "execution_count": 55,
   "metadata": {},
   "outputs": [
    {
     "data": {
      "text/plain": [
       "KMeans(max_iter=50, n_clusters=4)"
      ]
     },
     "execution_count": 55,
     "metadata": {},
     "output_type": "execute_result"
    }
   ],
   "source": [
    "kmeans = KMeans(n_clusters=4, max_iter=50)\n",
    "kmeans.fit(gp_daily_offer_df_scaled)"
   ]
  },
  {
   "cell_type": "code",
   "execution_count": 56,
   "metadata": {},
   "outputs": [
    {
     "data": {
      "text/plain": [
       "[<matplotlib.lines.Line2D at 0x1e48038a4c0>]"
      ]
     },
     "execution_count": 56,
     "metadata": {},
     "output_type": "execute_result"
    },
    {
     "data": {
      "image/png": "[encoded data removed]",
      "text/plain": [
       "<Figure size 720x576 with 1 Axes>"
      ]
     },
     "metadata": {
      "needs_background": "light"
     },
     "output_type": "display_data"
    }
   ],
   "source": [
    "# Elbow-curve/SSD\n",
    "\n",
    "ssd = []\n",
    "range_n_clusters = [2, 3, 4, 5, 6, 7, 8, 9, 10, 11, 12, 13, 14, 15]\n",
    "for num_clusters in range_n_clusters:\n",
    "    kmeans = KMeans(n_clusters=num_clusters, max_iter=50)\n",
    "    kmeans.fit(gp_daily_offer_df_scaled)\n",
    "    \n",
    "    ssd.append(kmeans.inertia_)\n",
    "    \n",
    "# plot the SSDs for each n_clusters\n",
    "plt.plot(ssd)"
   ]
  },
  {
   "cell_type": "code",
   "execution_count": 57,
   "metadata": {},
   "outputs": [
    {
     "name": "stdout",
     "output_type": "stream",
     "text": [
      "For n_clusters=2, the silhouette score is 0.6660082973186474\n",
      "For n_clusters=3, the silhouette score is 0.6089198717083774\n",
      "For n_clusters=4, the silhouette score is 0.6012811253076348\n",
      "For n_clusters=5, the silhouette score is 0.5853264913863324\n",
      "For n_clusters=6, the silhouette score is 0.5639340947166055\n",
      "For n_clusters=7, the silhouette score is 0.563067092005454\n",
      "For n_clusters=8, the silhouette score is 0.5563099560371856\n",
      "For n_clusters=9, the silhouette score is 0.5504551360977228\n",
      "For n_clusters=10, the silhouette score is 0.5485896676085277\n",
      "For n_clusters=11, the silhouette score is 0.5453109929280657\n",
      "For n_clusters=12, the silhouette score is 0.5437177694592754\n",
      "For n_clusters=13, the silhouette score is 0.5479185651417956\n",
      "For n_clusters=14, the silhouette score is 0.5484599293778384\n",
      "For n_clusters=15, the silhouette score is 0.5481340269979587\n"
     ]
    }
   ],
   "source": [
    "for num_clusters in range_n_clusters:\n",
    "    \n",
    "    # intialise kmeans\n",
    "    kmeans = KMeans(n_clusters=num_clusters, max_iter=50)\n",
    "    kmeans.fit(gp_daily_offer_df_scaled)\n",
    "    \n",
    "    cluster_labels = kmeans.labels_\n",
    "    \n",
    "    # silhouette score\n",
    "    silhouette_avg = silhouette_score(gp_daily_offer_df_scaled, cluster_labels)\n",
    "    print(\"For n_clusters={0}, the silhouette score is {1}\".format(num_clusters, silhouette_avg))"
   ]
  },
  {
   "cell_type": "code",
   "execution_count": 58,
   "metadata": {},
   "outputs": [
    {
     "data": {
      "text/plain": [
       "KMeans(max_iter=50, n_clusters=3)"
      ]
     },
     "execution_count": 58,
     "metadata": {},
     "output_type": "execute_result"
    }
   ],
   "source": [
    "# Final model with k=3\n",
    "kmeans = KMeans(n_clusters=3, max_iter=50)\n",
    "kmeans.fit(gp_daily_offer_df_scaled)"
   ]
  },
  {
   "cell_type": "code",
   "execution_count": 59,
   "metadata": {},
   "outputs": [
    {
     "data": {
      "text/plain": [
       "array([1, 1, 1, ..., 0, 0, 1])"
      ]
     },
     "execution_count": 59,
     "metadata": {},
     "output_type": "execute_result"
    }
   ],
   "source": [
    "kmeans.labels_"
   ]
  },
  {
   "cell_type": "code",
   "execution_count": 60,
   "metadata": {},
   "outputs": [
    {
     "data": {
      "text/html": [
       "<div>\n",
       "<style scoped>\n",
       "    .dataframe tbody tr th:only-of-type {\n",
       "        vertical-align: middle;\n",
       "    }\n",
       "\n",
       "    .dataframe tbody tr th {\n",
       "        vertical-align: top;\n",
       "    }\n",
       "\n",
       "    .dataframe thead th {\n",
       "        text-align: right;\n",
       "    }\n",
       "</style>\n",
       "<table border=\"1\" class=\"dataframe\">\n",
       "  <thead>\n",
       "    <tr style=\"text-align: right;\">\n",
       "      <th></th>\n",
       "      <th>datetime</th>\n",
       "      <th>CellID</th>\n",
       "      <th>countrycode</th>\n",
       "      <th>smsin</th>\n",
       "      <th>smsout</th>\n",
       "      <th>callin</th>\n",
       "      <th>callout</th>\n",
       "      <th>internet</th>\n",
       "      <th>Amount</th>\n",
       "      <th>Cluster_Id</th>\n",
       "    </tr>\n",
       "  </thead>\n",
       "  <tbody>\n",
       "    <tr>\n",
       "      <th>0</th>\n",
       "      <td>2013-11-02</td>\n",
       "      <td>1</td>\n",
       "      <td>10480</td>\n",
       "      <td>86.4157</td>\n",
       "      <td>86.4157</td>\n",
       "      <td>47.8908</td>\n",
       "      <td>53.5900</td>\n",
       "      <td>1515.6415</td>\n",
       "      <td>1789.9537</td>\n",
       "      <td>1</td>\n",
       "    </tr>\n",
       "    <tr>\n",
       "      <th>1</th>\n",
       "      <td>2013-11-02</td>\n",
       "      <td>10</td>\n",
       "      <td>8343</td>\n",
       "      <td>67.5846</td>\n",
       "      <td>67.5846</td>\n",
       "      <td>37.7126</td>\n",
       "      <td>43.0524</td>\n",
       "      <td>934.3876</td>\n",
       "      <td>1150.3218</td>\n",
       "      <td>1</td>\n",
       "    </tr>\n",
       "    <tr>\n",
       "      <th>2</th>\n",
       "      <td>2013-11-02</td>\n",
       "      <td>100</td>\n",
       "      <td>10646</td>\n",
       "      <td>55.9419</td>\n",
       "      <td>55.9419</td>\n",
       "      <td>37.4252</td>\n",
       "      <td>43.1022</td>\n",
       "      <td>1963.1548</td>\n",
       "      <td>2155.5660</td>\n",
       "      <td>1</td>\n",
       "    </tr>\n",
       "    <tr>\n",
       "      <th>3</th>\n",
       "      <td>2013-11-02</td>\n",
       "      <td>1000</td>\n",
       "      <td>208632</td>\n",
       "      <td>327.2457</td>\n",
       "      <td>327.2457</td>\n",
       "      <td>208.9230</td>\n",
       "      <td>210.8084</td>\n",
       "      <td>4334.8450</td>\n",
       "      <td>5409.0678</td>\n",
       "      <td>1</td>\n",
       "    </tr>\n",
       "    <tr>\n",
       "      <th>4</th>\n",
       "      <td>2013-11-02</td>\n",
       "      <td>10000</td>\n",
       "      <td>192797</td>\n",
       "      <td>151.0133</td>\n",
       "      <td>151.0133</td>\n",
       "      <td>112.7380</td>\n",
       "      <td>117.7561</td>\n",
       "      <td>2761.8810</td>\n",
       "      <td>3294.4017</td>\n",
       "      <td>1</td>\n",
       "    </tr>\n",
       "  </tbody>\n",
       "</table>\n",
       "</div>"
      ],
      "text/plain": [
       "     datetime CellID  countrycode     smsin    smsout    callin   callout  \\\n",
       "0  2013-11-02      1        10480   86.4157   86.4157   47.8908   53.5900   \n",
       "1  2013-11-02     10         8343   67.5846   67.5846   37.7126   43.0524   \n",
       "2  2013-11-02    100        10646   55.9419   55.9419   37.4252   43.1022   \n",
       "3  2013-11-02   1000       208632  327.2457  327.2457  208.9230  210.8084   \n",
       "4  2013-11-02  10000       192797  151.0133  151.0133  112.7380  117.7561   \n",
       "\n",
       "    internet     Amount  Cluster_Id  \n",
       "0  1515.6415  1789.9537           1  \n",
       "1   934.3876  1150.3218           1  \n",
       "2  1963.1548  2155.5660           1  \n",
       "3  4334.8450  5409.0678           1  \n",
       "4  2761.8810  3294.4017           1  "
      ]
     },
     "execution_count": 60,
     "metadata": {},
     "output_type": "execute_result"
    }
   ],
   "source": [
    "# assign the label\n",
    "gp_daily_offer['Cluster_Id'] = kmeans.labels_\n",
    "gp_daily_offer.head()"
   ]
  },
  {
   "cell_type": "code",
   "execution_count": 61,
   "metadata": {},
   "outputs": [
    {
     "data": {
      "text/plain": [
       "<AxesSubplot:xlabel='Cluster_Id', ylabel='Amount'>"
      ]
     },
     "execution_count": 61,
     "metadata": {},
     "output_type": "execute_result"
    },
    {
     "data": {
      "image/png": "[encoded data removed]",
      "text/plain": [
       "<Figure size 720x576 with 1 Axes>"
      ]
     },
     "metadata": {
      "needs_background": "light"
     },
     "output_type": "display_data"
    }
   ],
   "source": [
    "# Box plot to visualize Cluster Id vs Amount\n",
    "\n",
    "sns.boxplot(x='Cluster_Id', y='Amount', data=gp_daily_offer)"
   ]
  },
  {
   "cell_type": "code",
   "execution_count": 62,
   "metadata": {},
   "outputs": [],
   "source": [
    "#In this section will try to find the peak"
   ]
  },
  {
   "cell_type": "code",
   "execution_count": 68,
   "metadata": {},
   "outputs": [],
   "source": [
    "cellphones.loc[:,'datetime'] = pd.to_datetime(cellphones.loc[:,'datetime'],format='%Y-%m-%d %H:%M:%S')"
   ]
  },
  {
   "cell_type": "code",
   "execution_count": 85,
   "metadata": {},
   "outputs": [],
   "source": [
    "peak = cellphones\n",
    "\n",
    "peak.loc[:,'datetime'] = peak.loc[:,'datetime'].dt.hour"
   ]
  },
  {
   "cell_type": "code",
   "execution_count": 86,
   "metadata": {},
   "outputs": [
    {
     "data": {
      "text/html": [
       "<div>\n",
       "<style scoped>\n",
       "    .dataframe tbody tr th:only-of-type {\n",
       "        vertical-align: middle;\n",
       "    }\n",
       "\n",
       "    .dataframe tbody tr th {\n",
       "        vertical-align: top;\n",
       "    }\n",
       "\n",
       "    .dataframe thead th {\n",
       "        text-align: right;\n",
       "    }\n",
       "</style>\n",
       "<table border=\"1\" class=\"dataframe\">\n",
       "  <thead>\n",
       "    <tr style=\"text-align: right;\">\n",
       "      <th></th>\n",
       "      <th>datetime</th>\n",
       "      <th>CellID</th>\n",
       "      <th>countrycode</th>\n",
       "      <th>smsin</th>\n",
       "      <th>smsout</th>\n",
       "      <th>callin</th>\n",
       "      <th>callout</th>\n",
       "      <th>internet</th>\n",
       "      <th>Amount</th>\n",
       "    </tr>\n",
       "  </thead>\n",
       "  <tbody>\n",
       "    <tr>\n",
       "      <th>0</th>\n",
       "      <td>0</td>\n",
       "      <td>1</td>\n",
       "      <td>0</td>\n",
       "      <td>0.2445</td>\n",
       "      <td>0.2445</td>\n",
       "      <td>0.0000</td>\n",
       "      <td>0.0000</td>\n",
       "      <td>0.0000</td>\n",
       "      <td>0.4890</td>\n",
       "    </tr>\n",
       "    <tr>\n",
       "      <th>1</th>\n",
       "      <td>0</td>\n",
       "      <td>1</td>\n",
       "      <td>39</td>\n",
       "      <td>1.4952</td>\n",
       "      <td>1.4952</td>\n",
       "      <td>0.2708</td>\n",
       "      <td>0.3004</td>\n",
       "      <td>46.5094</td>\n",
       "      <td>50.0710</td>\n",
       "    </tr>\n",
       "    <tr>\n",
       "      <th>2</th>\n",
       "      <td>0</td>\n",
       "      <td>1</td>\n",
       "      <td>53</td>\n",
       "      <td>0.0018</td>\n",
       "      <td>0.0018</td>\n",
       "      <td>0.0000</td>\n",
       "      <td>0.0000</td>\n",
       "      <td>0.0000</td>\n",
       "      <td>0.0036</td>\n",
       "    </tr>\n",
       "    <tr>\n",
       "      <th>3</th>\n",
       "      <td>0</td>\n",
       "      <td>2</td>\n",
       "      <td>0</td>\n",
       "      <td>0.2458</td>\n",
       "      <td>0.2458</td>\n",
       "      <td>0.0000</td>\n",
       "      <td>0.0000</td>\n",
       "      <td>0.0000</td>\n",
       "      <td>0.4916</td>\n",
       "    </tr>\n",
       "    <tr>\n",
       "      <th>4</th>\n",
       "      <td>0</td>\n",
       "      <td>2</td>\n",
       "      <td>39</td>\n",
       "      <td>1.5028</td>\n",
       "      <td>1.5028</td>\n",
       "      <td>0.2751</td>\n",
       "      <td>0.3023</td>\n",
       "      <td>46.6933</td>\n",
       "      <td>50.2763</td>\n",
       "    </tr>\n",
       "  </tbody>\n",
       "</table>\n",
       "</div>"
      ],
      "text/plain": [
       "   datetime CellID  countrycode   smsin  smsout  callin  callout  internet  \\\n",
       "0         0      1            0  0.2445  0.2445  0.0000   0.0000    0.0000   \n",
       "1         0      1           39  1.4952  1.4952  0.2708   0.3004   46.5094   \n",
       "2         0      1           53  0.0018  0.0018  0.0000   0.0000    0.0000   \n",
       "3         0      2            0  0.2458  0.2458  0.0000   0.0000    0.0000   \n",
       "4         0      2           39  1.5028  1.5028  0.2751   0.3023   46.6933   \n",
       "\n",
       "    Amount  \n",
       "0   0.4890  \n",
       "1  50.0710  \n",
       "2   0.0036  \n",
       "3   0.4916  \n",
       "4  50.2763  "
      ]
     },
     "execution_count": 86,
     "metadata": {},
     "output_type": "execute_result"
    }
   ],
   "source": [
    "peak.head()"
   ]
  },
  {
   "cell_type": "code",
   "execution_count": 87,
   "metadata": {},
   "outputs": [
    {
     "data": {
      "text/plain": [
       "array([ 0,  1,  2,  3,  4,  5,  6,  7,  8,  9, 10, 11, 12, 13, 14, 15, 16,\n",
       "       17, 18, 19, 20, 21, 22, 23], dtype=int64)"
      ]
     },
     "execution_count": 87,
     "metadata": {},
     "output_type": "execute_result"
    }
   ],
   "source": [
    "peak.datetime.unique()"
   ]
  },
  {
   "cell_type": "code",
   "execution_count": 88,
   "metadata": {},
   "outputs": [
    {
     "data": {
      "text/html": [
       "<div>\n",
       "<style scoped>\n",
       "    .dataframe tbody tr th:only-of-type {\n",
       "        vertical-align: middle;\n",
       "    }\n",
       "\n",
       "    .dataframe tbody tr th {\n",
       "        vertical-align: top;\n",
       "    }\n",
       "\n",
       "    .dataframe thead th {\n",
       "        text-align: right;\n",
       "    }\n",
       "</style>\n",
       "<table border=\"1\" class=\"dataframe\">\n",
       "  <thead>\n",
       "    <tr style=\"text-align: right;\">\n",
       "      <th></th>\n",
       "      <th>datetime</th>\n",
       "      <th>countrycode</th>\n",
       "      <th>smsin</th>\n",
       "      <th>smsout</th>\n",
       "      <th>callin</th>\n",
       "      <th>callout</th>\n",
       "      <th>internet</th>\n",
       "      <th>Amount</th>\n",
       "    </tr>\n",
       "  </thead>\n",
       "  <tbody>\n",
       "    <tr>\n",
       "      <th>0</th>\n",
       "      <td>0</td>\n",
       "      <td>136159328</td>\n",
       "      <td>483148.0312</td>\n",
       "      <td>483148.0312</td>\n",
       "      <td>133332.3288</td>\n",
       "      <td>174288.5625</td>\n",
       "      <td>1.986514e+07</td>\n",
       "      <td>2.113906e+07</td>\n",
       "    </tr>\n",
       "    <tr>\n",
       "      <th>1</th>\n",
       "      <td>1</td>\n",
       "      <td>123758621</td>\n",
       "      <td>235125.9928</td>\n",
       "      <td>235125.9928</td>\n",
       "      <td>62859.0706</td>\n",
       "      <td>88692.5743</td>\n",
       "      <td>1.647608e+07</td>\n",
       "      <td>1.709788e+07</td>\n",
       "    </tr>\n",
       "    <tr>\n",
       "      <th>2</th>\n",
       "      <td>2</td>\n",
       "      <td>171746604</td>\n",
       "      <td>136586.1148</td>\n",
       "      <td>136586.1148</td>\n",
       "      <td>35358.9153</td>\n",
       "      <td>56603.9366</td>\n",
       "      <td>1.419495e+07</td>\n",
       "      <td>1.456009e+07</td>\n",
       "    </tr>\n",
       "    <tr>\n",
       "      <th>3</th>\n",
       "      <td>3</td>\n",
       "      <td>129225810</td>\n",
       "      <td>95628.0767</td>\n",
       "      <td>95628.0767</td>\n",
       "      <td>25245.6539</td>\n",
       "      <td>48072.5397</td>\n",
       "      <td>1.269875e+07</td>\n",
       "      <td>1.296332e+07</td>\n",
       "    </tr>\n",
       "    <tr>\n",
       "      <th>4</th>\n",
       "      <td>4</td>\n",
       "      <td>104516852</td>\n",
       "      <td>88242.3957</td>\n",
       "      <td>88242.3957</td>\n",
       "      <td>27792.9234</td>\n",
       "      <td>49401.7928</td>\n",
       "      <td>1.186400e+07</td>\n",
       "      <td>1.211768e+07</td>\n",
       "    </tr>\n",
       "  </tbody>\n",
       "</table>\n",
       "</div>"
      ],
      "text/plain": [
       "   datetime  countrycode        smsin       smsout       callin      callout  \\\n",
       "0         0    136159328  483148.0312  483148.0312  133332.3288  174288.5625   \n",
       "1         1    123758621  235125.9928  235125.9928   62859.0706   88692.5743   \n",
       "2         2    171746604  136586.1148  136586.1148   35358.9153   56603.9366   \n",
       "3         3    129225810   95628.0767   95628.0767   25245.6539   48072.5397   \n",
       "4         4    104516852   88242.3957   88242.3957   27792.9234   49401.7928   \n",
       "\n",
       "       internet        Amount  \n",
       "0  1.986514e+07  2.113906e+07  \n",
       "1  1.647608e+07  1.709788e+07  \n",
       "2  1.419495e+07  1.456009e+07  \n",
       "3  1.269875e+07  1.296332e+07  \n",
       "4  1.186400e+07  1.211768e+07  "
      ]
     },
     "execution_count": 88,
     "metadata": {},
     "output_type": "execute_result"
    }
   ],
   "source": [
    "gp_peak = peak.groupby(['datetime'],as_index=False).sum()\n",
    "gp_peak.head()"
   ]
  },
  {
   "cell_type": "code",
   "execution_count": 89,
   "metadata": {},
   "outputs": [
    {
     "name": "stdout",
     "output_type": "stream",
     "text": [
      "<class 'pandas.core.frame.DataFrame'>\n",
      "Int64Index: 24 entries, 0 to 23\n",
      "Data columns (total 8 columns):\n",
      " #   Column       Non-Null Count  Dtype  \n",
      "---  ------       --------------  -----  \n",
      " 0   datetime     24 non-null     int64  \n",
      " 1   countrycode  24 non-null     int64  \n",
      " 2   smsin        24 non-null     float64\n",
      " 3   smsout       24 non-null     float64\n",
      " 4   callin       24 non-null     float64\n",
      " 5   callout      24 non-null     float64\n",
      " 6   internet     24 non-null     float64\n",
      " 7   Amount       24 non-null     float64\n",
      "dtypes: float64(6), int64(2)\n",
      "memory usage: 1.7 KB\n"
     ]
    }
   ],
   "source": [
    "gp_peak.info()"
   ]
  },
  {
   "cell_type": "code",
   "execution_count": 90,
   "metadata": {},
   "outputs": [
    {
     "data": {
      "text/html": [
       "<div>\n",
       "<style scoped>\n",
       "    .dataframe tbody tr th:only-of-type {\n",
       "        vertical-align: middle;\n",
       "    }\n",
       "\n",
       "    .dataframe tbody tr th {\n",
       "        vertical-align: top;\n",
       "    }\n",
       "\n",
       "    .dataframe thead th {\n",
       "        text-align: right;\n",
       "    }\n",
       "</style>\n",
       "<table border=\"1\" class=\"dataframe\">\n",
       "  <thead>\n",
       "    <tr style=\"text-align: right;\">\n",
       "      <th></th>\n",
       "      <th>datetime</th>\n",
       "      <th>countrycode</th>\n",
       "      <th>Amount</th>\n",
       "    </tr>\n",
       "  </thead>\n",
       "  <tbody>\n",
       "    <tr>\n",
       "      <th>0</th>\n",
       "      <td>0</td>\n",
       "      <td>136159328</td>\n",
       "      <td>2.113906e+07</td>\n",
       "    </tr>\n",
       "    <tr>\n",
       "      <th>1</th>\n",
       "      <td>1</td>\n",
       "      <td>123758621</td>\n",
       "      <td>1.709788e+07</td>\n",
       "    </tr>\n",
       "    <tr>\n",
       "      <th>2</th>\n",
       "      <td>2</td>\n",
       "      <td>171746604</td>\n",
       "      <td>1.456009e+07</td>\n",
       "    </tr>\n",
       "    <tr>\n",
       "      <th>3</th>\n",
       "      <td>3</td>\n",
       "      <td>129225810</td>\n",
       "      <td>1.296332e+07</td>\n",
       "    </tr>\n",
       "    <tr>\n",
       "      <th>4</th>\n",
       "      <td>4</td>\n",
       "      <td>104516852</td>\n",
       "      <td>1.211768e+07</td>\n",
       "    </tr>\n",
       "    <tr>\n",
       "      <th>5</th>\n",
       "      <td>5</td>\n",
       "      <td>38598448</td>\n",
       "      <td>1.216717e+07</td>\n",
       "    </tr>\n",
       "    <tr>\n",
       "      <th>6</th>\n",
       "      <td>6</td>\n",
       "      <td>125265483</td>\n",
       "      <td>1.423962e+07</td>\n",
       "    </tr>\n",
       "    <tr>\n",
       "      <th>7</th>\n",
       "      <td>7</td>\n",
       "      <td>208648299</td>\n",
       "      <td>2.164722e+07</td>\n",
       "    </tr>\n",
       "    <tr>\n",
       "      <th>8</th>\n",
       "      <td>8</td>\n",
       "      <td>262281906</td>\n",
       "      <td>3.238874e+07</td>\n",
       "    </tr>\n",
       "    <tr>\n",
       "      <th>9</th>\n",
       "      <td>9</td>\n",
       "      <td>375415272</td>\n",
       "      <td>3.771706e+07</td>\n",
       "    </tr>\n",
       "    <tr>\n",
       "      <th>10</th>\n",
       "      <td>10</td>\n",
       "      <td>274749198</td>\n",
       "      <td>4.077022e+07</td>\n",
       "    </tr>\n",
       "    <tr>\n",
       "      <th>11</th>\n",
       "      <td>11</td>\n",
       "      <td>207371034</td>\n",
       "      <td>4.192896e+07</td>\n",
       "    </tr>\n",
       "    <tr>\n",
       "      <th>12</th>\n",
       "      <td>12</td>\n",
       "      <td>165143392</td>\n",
       "      <td>4.254282e+07</td>\n",
       "    </tr>\n",
       "    <tr>\n",
       "      <th>13</th>\n",
       "      <td>13</td>\n",
       "      <td>233504244</td>\n",
       "      <td>4.245484e+07</td>\n",
       "    </tr>\n",
       "    <tr>\n",
       "      <th>14</th>\n",
       "      <td>14</td>\n",
       "      <td>233322463</td>\n",
       "      <td>4.278020e+07</td>\n",
       "    </tr>\n",
       "    <tr>\n",
       "      <th>15</th>\n",
       "      <td>15</td>\n",
       "      <td>225209957</td>\n",
       "      <td>4.224033e+07</td>\n",
       "    </tr>\n",
       "    <tr>\n",
       "      <th>16</th>\n",
       "      <td>16</td>\n",
       "      <td>317372686</td>\n",
       "      <td>4.315748e+07</td>\n",
       "    </tr>\n",
       "    <tr>\n",
       "      <th>17</th>\n",
       "      <td>17</td>\n",
       "      <td>244896906</td>\n",
       "      <td>4.385110e+07</td>\n",
       "    </tr>\n",
       "    <tr>\n",
       "      <th>18</th>\n",
       "      <td>18</td>\n",
       "      <td>280435904</td>\n",
       "      <td>4.260609e+07</td>\n",
       "    </tr>\n",
       "    <tr>\n",
       "      <th>19</th>\n",
       "      <td>19</td>\n",
       "      <td>267296026</td>\n",
       "      <td>3.980853e+07</td>\n",
       "    </tr>\n",
       "    <tr>\n",
       "      <th>20</th>\n",
       "      <td>20</td>\n",
       "      <td>227078035</td>\n",
       "      <td>3.602014e+07</td>\n",
       "    </tr>\n",
       "    <tr>\n",
       "      <th>21</th>\n",
       "      <td>21</td>\n",
       "      <td>193608611</td>\n",
       "      <td>3.386367e+07</td>\n",
       "    </tr>\n",
       "    <tr>\n",
       "      <th>22</th>\n",
       "      <td>22</td>\n",
       "      <td>159112222</td>\n",
       "      <td>3.099530e+07</td>\n",
       "    </tr>\n",
       "    <tr>\n",
       "      <th>23</th>\n",
       "      <td>23</td>\n",
       "      <td>96093262</td>\n",
       "      <td>2.687774e+07</td>\n",
       "    </tr>\n",
       "  </tbody>\n",
       "</table>\n",
       "</div>"
      ],
      "text/plain": [
       "    datetime  countrycode        Amount\n",
       "0          0    136159328  2.113906e+07\n",
       "1          1    123758621  1.709788e+07\n",
       "2          2    171746604  1.456009e+07\n",
       "3          3    129225810  1.296332e+07\n",
       "4          4    104516852  1.211768e+07\n",
       "5          5     38598448  1.216717e+07\n",
       "6          6    125265483  1.423962e+07\n",
       "7          7    208648299  2.164722e+07\n",
       "8          8    262281906  3.238874e+07\n",
       "9          9    375415272  3.771706e+07\n",
       "10        10    274749198  4.077022e+07\n",
       "11        11    207371034  4.192896e+07\n",
       "12        12    165143392  4.254282e+07\n",
       "13        13    233504244  4.245484e+07\n",
       "14        14    233322463  4.278020e+07\n",
       "15        15    225209957  4.224033e+07\n",
       "16        16    317372686  4.315748e+07\n",
       "17        17    244896906  4.385110e+07\n",
       "18        18    280435904  4.260609e+07\n",
       "19        19    267296026  3.980853e+07\n",
       "20        20    227078035  3.602014e+07\n",
       "21        21    193608611  3.386367e+07\n",
       "22        22    159112222  3.099530e+07\n",
       "23        23     96093262  2.687774e+07"
      ]
     },
     "execution_count": 90,
     "metadata": {},
     "output_type": "execute_result"
    }
   ],
   "source": [
    "gp_peak.drop(['smsin','smsout','callin','callout','internet'],axis =1)"
   ]
  },
  {
   "cell_type": "code",
   "execution_count": 91,
   "metadata": {},
   "outputs": [
    {
     "data": {
      "text/html": [
       "<div>\n",
       "<style scoped>\n",
       "    .dataframe tbody tr th:only-of-type {\n",
       "        vertical-align: middle;\n",
       "    }\n",
       "\n",
       "    .dataframe tbody tr th {\n",
       "        vertical-align: top;\n",
       "    }\n",
       "\n",
       "    .dataframe thead th {\n",
       "        text-align: right;\n",
       "    }\n",
       "</style>\n",
       "<table border=\"1\" class=\"dataframe\">\n",
       "  <thead>\n",
       "    <tr style=\"text-align: right;\">\n",
       "      <th></th>\n",
       "      <th>datetime</th>\n",
       "      <th>countrycode</th>\n",
       "      <th>smsin</th>\n",
       "      <th>smsout</th>\n",
       "      <th>callin</th>\n",
       "      <th>callout</th>\n",
       "      <th>internet</th>\n",
       "      <th>Amount</th>\n",
       "    </tr>\n",
       "  </thead>\n",
       "  <tbody>\n",
       "    <tr>\n",
       "      <th>count</th>\n",
       "      <td>24.000000</td>\n",
       "      <td>2.400000e+01</td>\n",
       "      <td>2.400000e+01</td>\n",
       "      <td>2.400000e+01</td>\n",
       "      <td>2.400000e+01</td>\n",
       "      <td>2.400000e+01</td>\n",
       "      <td>2.400000e+01</td>\n",
       "      <td>2.400000e+01</td>\n",
       "    </tr>\n",
       "    <tr>\n",
       "      <th>mean</th>\n",
       "      <td>11.500000</td>\n",
       "      <td>2.000338e+08</td>\n",
       "      <td>1.703939e+06</td>\n",
       "      <td>1.703939e+06</td>\n",
       "      <td>1.148931e+06</td>\n",
       "      <td>1.309792e+06</td>\n",
       "      <td>2.521403e+07</td>\n",
       "      <td>3.108064e+07</td>\n",
       "    </tr>\n",
       "    <tr>\n",
       "      <th>std</th>\n",
       "      <td>7.071068</td>\n",
       "      <td>7.827798e+07</td>\n",
       "      <td>1.157630e+06</td>\n",
       "      <td>1.157630e+06</td>\n",
       "      <td>9.355400e+05</td>\n",
       "      <td>1.037153e+06</td>\n",
       "      <td>7.953553e+06</td>\n",
       "      <td>1.203745e+07</td>\n",
       "    </tr>\n",
       "    <tr>\n",
       "      <th>min</th>\n",
       "      <td>0.000000</td>\n",
       "      <td>3.859845e+07</td>\n",
       "      <td>8.824240e+04</td>\n",
       "      <td>8.824240e+04</td>\n",
       "      <td>2.524565e+04</td>\n",
       "      <td>4.807254e+04</td>\n",
       "      <td>1.185492e+07</td>\n",
       "      <td>1.211768e+07</td>\n",
       "    </tr>\n",
       "    <tr>\n",
       "      <th>25%</th>\n",
       "      <td>5.750000</td>\n",
       "      <td>1.344259e+08</td>\n",
       "      <td>4.211425e+05</td>\n",
       "      <td>4.211425e+05</td>\n",
       "      <td>1.241682e+05</td>\n",
       "      <td>1.652463e+05</td>\n",
       "      <td>1.852082e+07</td>\n",
       "      <td>2.012876e+07</td>\n",
       "    </tr>\n",
       "    <tr>\n",
       "      <th>50%</th>\n",
       "      <td>11.500000</td>\n",
       "      <td>2.080097e+08</td>\n",
       "      <td>2.137791e+06</td>\n",
       "      <td>2.137791e+06</td>\n",
       "      <td>1.179666e+06</td>\n",
       "      <td>1.408655e+06</td>\n",
       "      <td>2.844534e+07</td>\n",
       "      <td>3.494191e+07</td>\n",
       "    </tr>\n",
       "    <tr>\n",
       "      <th>75%</th>\n",
       "      <td>17.250000</td>\n",
       "      <td>2.492432e+08</td>\n",
       "      <td>2.759921e+06</td>\n",
       "      <td>2.759921e+06</td>\n",
       "      <td>2.045194e+06</td>\n",
       "      <td>2.278899e+06</td>\n",
       "      <td>3.217306e+07</td>\n",
       "      <td>4.229396e+07</td>\n",
       "    </tr>\n",
       "    <tr>\n",
       "      <th>max</th>\n",
       "      <td>23.000000</td>\n",
       "      <td>3.754153e+08</td>\n",
       "      <td>2.977432e+06</td>\n",
       "      <td>2.977432e+06</td>\n",
       "      <td>2.394869e+06</td>\n",
       "      <td>2.656037e+06</td>\n",
       "      <td>3.307391e+07</td>\n",
       "      <td>4.385110e+07</td>\n",
       "    </tr>\n",
       "  </tbody>\n",
       "</table>\n",
       "</div>"
      ],
      "text/plain": [
       "        datetime   countrycode         smsin        smsout        callin  \\\n",
       "count  24.000000  2.400000e+01  2.400000e+01  2.400000e+01  2.400000e+01   \n",
       "mean   11.500000  2.000338e+08  1.703939e+06  1.703939e+06  1.148931e+06   \n",
       "std     7.071068  7.827798e+07  1.157630e+06  1.157630e+06  9.355400e+05   \n",
       "min     0.000000  3.859845e+07  8.824240e+04  8.824240e+04  2.524565e+04   \n",
       "25%     5.750000  1.344259e+08  4.211425e+05  4.211425e+05  1.241682e+05   \n",
       "50%    11.500000  2.080097e+08  2.137791e+06  2.137791e+06  1.179666e+06   \n",
       "75%    17.250000  2.492432e+08  2.759921e+06  2.759921e+06  2.045194e+06   \n",
       "max    23.000000  3.754153e+08  2.977432e+06  2.977432e+06  2.394869e+06   \n",
       "\n",
       "            callout      internet        Amount  \n",
       "count  2.400000e+01  2.400000e+01  2.400000e+01  \n",
       "mean   1.309792e+06  2.521403e+07  3.108064e+07  \n",
       "std    1.037153e+06  7.953553e+06  1.203745e+07  \n",
       "min    4.807254e+04  1.185492e+07  1.211768e+07  \n",
       "25%    1.652463e+05  1.852082e+07  2.012876e+07  \n",
       "50%    1.408655e+06  2.844534e+07  3.494191e+07  \n",
       "75%    2.278899e+06  3.217306e+07  4.229396e+07  \n",
       "max    2.656037e+06  3.307391e+07  4.385110e+07  "
      ]
     },
     "execution_count": 91,
     "metadata": {},
     "output_type": "execute_result"
    }
   ],
   "source": [
    "gp_peak.describe()"
   ]
  },
  {
   "cell_type": "code",
   "execution_count": 92,
   "metadata": {},
   "outputs": [
    {
     "data": {
      "text/plain": [
       "17"
      ]
     },
     "execution_count": 92,
     "metadata": {},
     "output_type": "execute_result"
    }
   ],
   "source": [
    "gp_peak['Amount'].argmax()"
   ]
  },
  {
   "cell_type": "code",
   "execution_count": 93,
   "metadata": {
    "scrolled": true
   },
   "outputs": [
    {
     "data": {
      "text/plain": [
       "array([[<AxesSubplot:title={'center':'datetime'}>]], dtype=object)"
      ]
     },
     "execution_count": 93,
     "metadata": {},
     "output_type": "execute_result"
    },
    {
     "data": {
      "image/png": "[encoded data removed]",
      "text/plain": [
       "<Figure size 720x576 with 1 Axes>"
      ]
     },
     "metadata": {
      "needs_background": "light"
     },
     "output_type": "display_data"
    }
   ],
   "source": [
    "gp_peak.hist('datetime',weights=gp_peak['Amount'] ,bins=48)"
   ]
  },
  {
   "cell_type": "code",
   "execution_count": 258,
   "metadata": {},
   "outputs": [],
   "source": [
    "################"
   ]
  },
  {
   "cell_type": "code",
   "execution_count": 288,
   "metadata": {},
   "outputs": [
    {
     "name": "stdout",
     "output_type": "stream",
     "text": [
      "<class 'pandas.core.frame.DataFrame'>\n",
      "Int64Index: 13197237 entries, 0 to 2407383\n",
      "Data columns (total 9 columns):\n",
      " #   Column       Dtype         \n",
      "---  ------       -----         \n",
      " 0   datetime     datetime64[ns]\n",
      " 1   CellID       object        \n",
      " 2   countrycode  int64         \n",
      " 3   smsin        float64       \n",
      " 4   smsout       float64       \n",
      " 5   callin       float64       \n",
      " 6   callout      float64       \n",
      " 7   internet     float64       \n",
      " 8   Amount       float64       \n",
      "dtypes: datetime64[ns](1), float64(6), int64(1), object(1)\n",
      "memory usage: 1006.9+ MB\n"
     ]
    }
   ],
   "source": [
    "events = cellphones\n",
    "events.info()"
   ]
  },
  {
   "cell_type": "code",
   "execution_count": 289,
   "metadata": {},
   "outputs": [],
   "source": [
    "events.loc[:,'datetime'] = pd.to_datetime(events.loc[:,'datetime'],format='%Y-%m-%d %H')"
   ]
  },
  {
   "cell_type": "code",
   "execution_count": 290,
   "metadata": {},
   "outputs": [],
   "source": [
    "gp_events = events.groupby('datetime',as_index = False).count()"
   ]
  },
  {
   "cell_type": "code",
   "execution_count": 291,
   "metadata": {},
   "outputs": [],
   "source": [
    "gp_events = gp_events.drop(['smsin','smsout','callin','callout','internet','CellID'],axis =1)"
   ]
  },
  {
   "cell_type": "code",
   "execution_count": 292,
   "metadata": {},
   "outputs": [
    {
     "data": {
      "text/html": [
       "<div>\n",
       "<style scoped>\n",
       "    .dataframe tbody tr th:only-of-type {\n",
       "        vertical-align: middle;\n",
       "    }\n",
       "\n",
       "    .dataframe tbody tr th {\n",
       "        vertical-align: top;\n",
       "    }\n",
       "\n",
       "    .dataframe thead th {\n",
       "        text-align: right;\n",
       "    }\n",
       "</style>\n",
       "<table border=\"1\" class=\"dataframe\">\n",
       "  <thead>\n",
       "    <tr style=\"text-align: right;\">\n",
       "      <th></th>\n",
       "      <th>datetime</th>\n",
       "      <th>countrycode</th>\n",
       "      <th>Amount</th>\n",
       "    </tr>\n",
       "  </thead>\n",
       "  <tbody>\n",
       "    <tr>\n",
       "      <th>0</th>\n",
       "      <td>2013-11-02 00:00:00</td>\n",
       "      <td>49595</td>\n",
       "      <td>49595</td>\n",
       "    </tr>\n",
       "    <tr>\n",
       "      <th>1</th>\n",
       "      <td>2013-11-02 01:00:00</td>\n",
       "      <td>40309</td>\n",
       "      <td>40309</td>\n",
       "    </tr>\n",
       "    <tr>\n",
       "      <th>2</th>\n",
       "      <td>2013-11-02 02:00:00</td>\n",
       "      <td>35768</td>\n",
       "      <td>35768</td>\n",
       "    </tr>\n",
       "    <tr>\n",
       "      <th>3</th>\n",
       "      <td>2013-11-02 03:00:00</td>\n",
       "      <td>31910</td>\n",
       "      <td>31910</td>\n",
       "    </tr>\n",
       "    <tr>\n",
       "      <th>4</th>\n",
       "      <td>2013-11-02 04:00:00</td>\n",
       "      <td>34325</td>\n",
       "      <td>34325</td>\n",
       "    </tr>\n",
       "  </tbody>\n",
       "</table>\n",
       "</div>"
      ],
      "text/plain": [
       "             datetime  countrycode  Amount\n",
       "0 2013-11-02 00:00:00        49595   49595\n",
       "1 2013-11-02 01:00:00        40309   40309\n",
       "2 2013-11-02 02:00:00        35768   35768\n",
       "3 2013-11-02 03:00:00        31910   31910\n",
       "4 2013-11-02 04:00:00        34325   34325"
      ]
     },
     "execution_count": 292,
     "metadata": {},
     "output_type": "execute_result"
    }
   ],
   "source": [
    "gp_events.head()"
   ]
  },
  {
   "cell_type": "code",
   "execution_count": 293,
   "metadata": {},
   "outputs": [
    {
     "data": {
      "text/plain": [
       "array([[<AxesSubplot:title={'center':'datetime'}>]], dtype=object)"
      ]
     },
     "execution_count": 293,
     "metadata": {},
     "output_type": "execute_result"
    },
    {
     "data": {
      "image/png": "[encoded data removed]",
      "text/plain": [
       "<Figure size 720x576 with 1 Axes>"
      ]
     },
     "metadata": {
      "needs_background": "light"
     },
     "output_type": "display_data"
    }
   ],
   "source": [
    "gp_events.hist('datetime',weights=test['Amount'] ,bins=200)"
   ]
  },
  {
   "cell_type": "code",
   "execution_count": 294,
   "metadata": {},
   "outputs": [],
   "source": [
    "gp2_events =  gp_events"
   ]
  },
  {
   "cell_type": "code",
   "execution_count": 295,
   "metadata": {},
   "outputs": [],
   "source": [
    "gp2_events.loc[:,'hour'] = gp2_events.loc[:,'datetime'].dt.hour\n",
    "gp2_events.loc[:,'datetime'] = gp2_events.loc[:,'datetime'].dt.date"
   ]
  },
  {
   "cell_type": "code",
   "execution_count": 296,
   "metadata": {},
   "outputs": [
    {
     "data": {
      "text/html": [
       "<div>\n",
       "<style scoped>\n",
       "    .dataframe tbody tr th:only-of-type {\n",
       "        vertical-align: middle;\n",
       "    }\n",
       "\n",
       "    .dataframe tbody tr th {\n",
       "        vertical-align: top;\n",
       "    }\n",
       "\n",
       "    .dataframe thead th {\n",
       "        text-align: right;\n",
       "    }\n",
       "</style>\n",
       "<table border=\"1\" class=\"dataframe\">\n",
       "  <thead>\n",
       "    <tr style=\"text-align: right;\">\n",
       "      <th></th>\n",
       "      <th>datetime</th>\n",
       "      <th>countrycode</th>\n",
       "      <th>Amount</th>\n",
       "      <th>hour</th>\n",
       "    </tr>\n",
       "  </thead>\n",
       "  <tbody>\n",
       "    <tr>\n",
       "      <th>0</th>\n",
       "      <td>2013-11-02</td>\n",
       "      <td>49595</td>\n",
       "      <td>49595</td>\n",
       "      <td>0</td>\n",
       "    </tr>\n",
       "    <tr>\n",
       "      <th>1</th>\n",
       "      <td>2013-11-02</td>\n",
       "      <td>40309</td>\n",
       "      <td>40309</td>\n",
       "      <td>1</td>\n",
       "    </tr>\n",
       "    <tr>\n",
       "      <th>2</th>\n",
       "      <td>2013-11-02</td>\n",
       "      <td>35768</td>\n",
       "      <td>35768</td>\n",
       "      <td>2</td>\n",
       "    </tr>\n",
       "    <tr>\n",
       "      <th>3</th>\n",
       "      <td>2013-11-02</td>\n",
       "      <td>31910</td>\n",
       "      <td>31910</td>\n",
       "      <td>3</td>\n",
       "    </tr>\n",
       "    <tr>\n",
       "      <th>4</th>\n",
       "      <td>2013-11-02</td>\n",
       "      <td>34325</td>\n",
       "      <td>34325</td>\n",
       "      <td>4</td>\n",
       "    </tr>\n",
       "    <tr>\n",
       "      <th>5</th>\n",
       "      <td>2013-11-02</td>\n",
       "      <td>37919</td>\n",
       "      <td>37919</td>\n",
       "      <td>5</td>\n",
       "    </tr>\n",
       "    <tr>\n",
       "      <th>6</th>\n",
       "      <td>2013-11-02</td>\n",
       "      <td>45421</td>\n",
       "      <td>45421</td>\n",
       "      <td>6</td>\n",
       "    </tr>\n",
       "    <tr>\n",
       "      <th>7</th>\n",
       "      <td>2013-11-02</td>\n",
       "      <td>58890</td>\n",
       "      <td>58890</td>\n",
       "      <td>7</td>\n",
       "    </tr>\n",
       "    <tr>\n",
       "      <th>8</th>\n",
       "      <td>2013-11-02</td>\n",
       "      <td>80581</td>\n",
       "      <td>80581</td>\n",
       "      <td>8</td>\n",
       "    </tr>\n",
       "    <tr>\n",
       "      <th>9</th>\n",
       "      <td>2013-11-02</td>\n",
       "      <td>99259</td>\n",
       "      <td>99259</td>\n",
       "      <td>9</td>\n",
       "    </tr>\n",
       "  </tbody>\n",
       "</table>\n",
       "</div>"
      ],
      "text/plain": [
       "     datetime  countrycode  Amount  hour\n",
       "0  2013-11-02        49595   49595     0\n",
       "1  2013-11-02        40309   40309     1\n",
       "2  2013-11-02        35768   35768     2\n",
       "3  2013-11-02        31910   31910     3\n",
       "4  2013-11-02        34325   34325     4\n",
       "5  2013-11-02        37919   37919     5\n",
       "6  2013-11-02        45421   45421     6\n",
       "7  2013-11-02        58890   58890     7\n",
       "8  2013-11-02        80581   80581     8\n",
       "9  2013-11-02        99259   99259     9"
      ]
     },
     "execution_count": 296,
     "metadata": {},
     "output_type": "execute_result"
    }
   ],
   "source": [
    "gp2_events.head(10)"
   ]
  },
  {
   "cell_type": "code",
   "execution_count": 297,
   "metadata": {},
   "outputs": [],
   "source": [
    "gp2_events = gp2_events.reset_index()\n",
    "Q1 = gp2_events.Amount.quantile(0.25)\n",
    "Q3 = gp2_events.Amount.quantile(0.75)\n",
    "IQR = Q3 - Q1\n",
    "gp2_events = gp2_events[(gp2_events.Amount >= Q3 + 1.5*IQR)]"
   ]
  },
  {
   "cell_type": "code",
   "execution_count": 298,
   "metadata": {},
   "outputs": [
    {
     "name": "stdout",
     "output_type": "stream",
     "text": [
      "<class 'pandas.core.frame.DataFrame'>\n",
      "Int64Index: 0 entries\n",
      "Data columns (total 5 columns):\n",
      " #   Column       Non-Null Count  Dtype \n",
      "---  ------       --------------  ----- \n",
      " 0   index        0 non-null      int64 \n",
      " 1   datetime     0 non-null      object\n",
      " 2   countrycode  0 non-null      int64 \n",
      " 3   Amount       0 non-null      int64 \n",
      " 4   hour         0 non-null      int64 \n",
      "dtypes: int64(4), object(1)\n",
      "memory usage: 0.0+ bytes\n"
     ]
    }
   ],
   "source": [
    "gp2_events.info()"
   ]
  }
 ],
 "metadata": {
  "kernelspec": {
   "display_name": "Python 3",
   "language": "python",
   "name": "python3"
  },
  "language_info": {
   "codemirror_mode": {
    "name": "ipython",
    "version": 3
   },
   "file_extension": ".py",
   "mimetype": "text/x-python",
   "name": "python",
   "nbconvert_exporter": "python",
   "pygments_lexer": "ipython3",
   "version": "3.8.2"
  }
 },
 "nbformat": 4,
 "nbformat_minor": 4
}
